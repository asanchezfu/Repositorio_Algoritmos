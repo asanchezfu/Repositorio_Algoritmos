{
  "nbformat": 4,
  "nbformat_minor": 0,
  "metadata": {
    "colab": {
      "name": "Lab4.ipynb",
      "provenance": []
    },
    "kernelspec": {
      "name": "python3",
      "display_name": "Python 3"
    },
    "language_info": {
      "name": "python"
    }
  },
  "cells": [
    {
      "cell_type": "markdown",
      "source": [
        "### Lab 4 - Algoritmos\n",
        "#### Grupo 2\n",
        "\n"
      ],
      "metadata": {
        "id": "wbBkZho7nV-2"
      }
    },
    {
      "cell_type": "code",
      "source": [
        "# Importing useful libraries\n",
        "import math\n",
        "import time\n",
        "import sympy as sym"
      ],
      "metadata": {
        "id": "aFTzyEd6eG9a"
      },
      "execution_count": 1,
      "outputs": []
    },
    {
      "cell_type": "code",
      "execution_count": 2,
      "metadata": {
        "id": "TWbVC8Evd-a1"
      },
      "outputs": [],
      "source": [
        "#Brute Force\n",
        "def f_bruta(i, f):\n",
        "  # Start Evaluating at the initial point i\n",
        "  x = i\n",
        "  # While x is less or equal than the final valie, we keep evaluating to find the root\n",
        "  while x <= f:\n",
        "    # Determine the function value for the current x\n",
        "    value = x**5-59*x**4+35*x**3-205*x**2+x-70\n",
        "    # If the value is equal to zero, we have found the root\n",
        "    if value == 0:\n",
        "      return x\n",
        "    #Getting the previous x to see if there was a change of sign in the function\n",
        "    x_prev = x - 0.0001\n",
        "    # Rounding to 4 decimal places\n",
        "    x_prev = round(x_prev,4)\n",
        "    #Evaluating the function for previous value\n",
        "    prev_val = x_prev**5-59*x_prev**4+35*x_prev**3-205*x_prev**2+x_prev-70\n",
        "    # If there is a change of sign, since we are incrementing by just 0.0001\n",
        "    # We have found an approximation of the root\n",
        "    if (prev_val < 0) and (value > 0):\n",
        "      return x\n",
        "    # Increment the value of x by 0.0001\n",
        "    x += 0.0001\n",
        "    # Rounding x to 4 decimal places\n",
        "    x = round(x,4)\n",
        "  #If we reach the final point in the interval and none of the conditions were \n",
        "  #Accomplished, there is no root for the function in the interval.\n",
        "  return \"No tiene raíz\""
      ]
    },
    {
      "cell_type": "code",
      "source": [
        "# Initialize the variable start to store the starting time of\n",
        "# execution of the program\n",
        "start = time.time()\n",
        "# Execution\n",
        "ans = f_bruta(-1000, 1000)\n",
        "# End time\n",
        "end = time.time()\n",
        "# We get the execution time by substracting the starttime from the endtime\n",
        "exec_time = end-start\n",
        "print(\"La raíz se encuentra en (aprox) x =\", ans)\n",
        "print(\"El tiempo de ejecución del algoritmo de fuerza bruta es: \", exec_time, \"segundos.\")"
      ],
      "metadata": {
        "colab": {
          "base_uri": "https://localhost:8080/"
        },
        "id": "hCJ0mnwofw6j",
        "outputId": "857f052a-87df-4ccc-813f-090935809cd6"
      },
      "execution_count": 20,
      "outputs": [
        {
          "output_type": "stream",
          "name": "stdout",
          "text": [
            "La raíz se encuentra en (aprox) x = 58.4613\n",
            "El tiempo de ejecución del algoritmo de fuerza bruta es:  31.905091047286987 segundos.\n"
          ]
        }
      ]
    },
    {
      "cell_type": "code",
      "source": [
        "# Greedy bisection algorithm\n",
        "def biseccion_alg (xi, xf, er):\n",
        "  x = sym.Symbol('x')\n",
        "  # Function evaluation for x\n",
        "  func = (x**5) - 59*(x**4) + 35*(x**3) - 250*(x**2) + x - 70\n",
        "  # Checking if there is a chnage of sign in the interval\n",
        "  if (func.subs(x,xi) * func.subs(x,xf) >= 0):\n",
        "        print(\"El intervalo no ha sido seleccionado correctamente porque no hay cambio de signo\\n\")\n",
        "        return\n",
        "  # Loop for finding the root\n",
        "  while True:\n",
        "    # Getting the middle point in the interval\n",
        "    xm = (xi+xf)/2\n",
        "    # Check if the middle point is root\n",
        "    mid_val = func.subs(x,xm)\n",
        "    if mid_val == 0:\n",
        "      return xm\n",
        "      break\n",
        "    # Check if convergence is satisfactory\n",
        "    elif abs((xm-xi)) <= er or abs(mid_val) <= er:\n",
        "      return xm\n",
        "      break\n",
        "    # Checking if there is a change of sign between the initial point and the middle point.\n",
        "    # If yes, the final point in the interval will be replaced by the middle point\n",
        "    if (func.subs(x,xi) * mid_val < 0):\n",
        "      xf=xm\n",
        "    # If not, evaluate the other portion of the interval. In that case, the initial point\n",
        "    # would be changed by the middle point.\n",
        "    elif (func.subs(x,xf) * mid_val < 0):\n",
        "      xi=xm\n",
        "  "
      ],
      "metadata": {
        "id": "xoOzWZ1af6f4"
      },
      "execution_count": 13,
      "outputs": []
    },
    {
      "cell_type": "code",
      "source": [
        "# Initialize the variable start to store the starting time of\n",
        "# execution of the program\n",
        "start = time.time()\n",
        "# Execution\n",
        "print(\"La raiz está en x =\",\"%.4f\"%biseccion_alg(-1000, 1000, 0.0001))\n",
        "end = time.time()\n",
        "# We get the execution time by substracting the starttime from the endtime\n",
        "exec_time = end-start\n",
        "print(\"El tiempo de ejecución del algoritmo de bisección voraz es:\", exec_time, \"segundos.\")"
      ],
      "metadata": {
        "colab": {
          "base_uri": "https://localhost:8080/"
        },
        "id": "9c1bMzcxoy7L",
        "outputId": "8975c5e7-a1e7-4dab-f4de-4c6aa54a18ca"
      },
      "execution_count": 19,
      "outputs": [
        {
          "output_type": "stream",
          "name": "stdout",
          "text": [
            "La raiz está en x = 58.4746\n",
            "El tiempo de ejecución del algoritmo de bisección voraz es: 0.006085872650146484 segundos.\n"
          ]
        }
      ]
    }
  ]
}