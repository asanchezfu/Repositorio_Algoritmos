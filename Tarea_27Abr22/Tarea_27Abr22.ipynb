{
  "nbformat": 4,
  "nbformat_minor": 0,
  "metadata": {
    "colab": {
      "name": "Copy of Lab5.ipynb",
      "provenance": []
    },
    "kernelspec": {
      "name": "python3",
      "display_name": "Python 3"
    },
    "language_info": {
      "name": "python"
    }
  },
  "cells": [
    {
      "cell_type": "code",
      "execution_count": 2,
      "metadata": {
        "id": "8dmFT5xkTuVS"
      },
      "outputs": [],
      "source": [
        "class newNode: \n",
        "    # Constructor to create a new node\n",
        "    def __init__(self, data):\n",
        "        self.data = data\n",
        "        self.left = None\n",
        "        self.right = None"
      ]
    },
    {
      "cell_type": "code",
      "source": [
        "# A utility function to insert a new Node with given key in BST\n",
        "def insert(Node, data):\n",
        "     \n",
        "    # If the tree is empty, return a new Node\n",
        "    if Node == None:\n",
        "        return newNode(data)\n",
        "    # Otherwise, recur down the tree\n",
        "    if data < Node.data:\n",
        "        Node.left = insert(Node.left, data)\n",
        "    elif data > Node.data:\n",
        "        Node.right = insert(Node.right, data)\n",
        " \n",
        "    # return the (unchanged) Node pointer\n",
        "    return Node"
      ],
      "metadata": {
        "id": "5wWOy3qrT_QK"
      },
      "execution_count": 3,
      "outputs": []
    },
    {
      "cell_type": "code",
      "source": [
        "# This function checks whether the given key exist or not\n",
        "def iterativeSearch(root, key):\n",
        "  path = 'La ruta para el nodo buscado es: \\n'     \n",
        "    # Traverse until root reaches\n",
        "    # to dead end\n",
        "  while root != None:         \n",
        "        # pass right subtree as new tree\n",
        "      if key > root.data:\n",
        "        root = root.right\n",
        "        path += 'Derecha  '\n",
        " \n",
        "        # pass left subtree as new tree\n",
        "      elif key < root.data:\n",
        "        root = root.left\n",
        "        path += 'Izquierda  '\n",
        "      else:\n",
        "        return path\n",
        "  return 'El nodo no está en el árbol'"
      ],
      "metadata": {
        "id": "c6mNm6t4T7-i"
      },
      "execution_count": 4,
      "outputs": []
    },
    {
      "cell_type": "code",
      "source": [
        "# Driver Code\n",
        "if __name__ == '__main__':\n",
        "    root = None\n",
        "    root = insert(root, int(input('Ingresa el valor de la raiz para la generación del árbol binario: ')))\n",
        "    n_nodes = int(input('Ingresa la cantidad de nodos para la generación del árbol binario: '))\n",
        "    for i in range(n_nodes):\n",
        "      insert(root, int(input('Ingrese el valor del nodo {}: '.format(i+1))))\n",
        "    print(iterativeSearch(root, int(input('Ingrese el valor del nodo que desea buscar: '))))"
      ],
      "metadata": {
        "colab": {
          "base_uri": "https://localhost:8080/"
        },
        "id": "nYstmAHeT_GW",
        "outputId": "823b6e00-e0a9-49eb-98a1-73e6428fdb43"
      },
      "execution_count": 5,
      "outputs": [
        {
          "output_type": "stream",
          "name": "stdout",
          "text": [
            "Ingresa el valor de la raiz para la generación del árbol binario: 96\n",
            "Ingresa la cantidad de nodos para la generación del árbol binario: 5\n",
            "Ingrese el valor del nodo 1: 4\n",
            "Ingrese el valor del nodo 2: 3\n",
            "Ingrese el valor del nodo 3: 68\n",
            "Ingrese el valor del nodo 4: 52\n",
            "Ingrese el valor del nodo 5: 74\n",
            "Ingrese el valor del nodo que desea buscar: 68\n",
            "La ruta para el nodo buscado es: \n",
            "Izquierda  Derecha  \n"
          ]
        }
      ]
    }
  ]
}