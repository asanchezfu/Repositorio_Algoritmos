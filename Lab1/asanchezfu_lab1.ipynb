{
  "nbformat": 4,
  "nbformat_minor": 0,
  "metadata": {
    "colab": {
      "name": "asanchezfu_lab1.ipynb",
      "provenance": [],
      "collapsed_sections": [],
      "authorship_tag": "ABX9TyPaem80lIkjM0IK5iw0uRWU",
      "include_colab_link": true
    },
    "kernelspec": {
      "name": "python3",
      "display_name": "Python 3"
    },
    "language_info": {
      "name": "python"
    }
  },
  "cells": [
    {
      "cell_type": "markdown",
      "metadata": {
        "id": "view-in-github",
        "colab_type": "text"
      },
      "source": [
        "<a href=\"https://colab.research.google.com/github/xndrxs/Repositorio_Algoritmos/blob/main/asanchezfu_lab1.ipynb\" target=\"_parent\"><img src=\"https://colab.research.google.com/assets/colab-badge.svg\" alt=\"Open In Colab\"/></a>"
      ]
    },
    {
      "cell_type": "code",
      "execution_count": null,
      "metadata": {
        "colab": {
          "base_uri": "https://localhost:8080/"
        },
        "id": "cY7NvHstZJvg",
        "outputId": "936afd0d-7f70-4225-f878-c386e1b1df4b"
      },
      "outputs": [
        {
          "output_type": "stream",
          "name": "stdout",
          "text": [
            "Hello World\n"
          ]
        }
      ],
      "source": [
        "# 01 Data Types and Data Structures\n",
        "\n",
        "my_string1 = 'Hello'\n",
        "# Asigna un string a la variable my_string1\n",
        "my_string2 = \"World\"\n",
        "# Asigna un string a la variable my_string2\n",
        "print(my_string1 + ' ' + my_string2)\n",
        "\n",
        "# Con print imprime un mensaje en pantalla que es pasado como argumento\n",
        "# dentro de los paréntesis (), en este ejemplo está concatenando las variables y\n",
        "# agregando un espacio intermedio\n",
        "\n",
        "# Algo para resaltar es que python identifica los strings ya sea con ('') ó (\"\")"
      ]
    },
    {
      "cell_type": "code",
      "source": [
        "my_int = 100\n",
        "# Inicializa la variable my_int con un valor entero igual a 100\n",
        "print(my_int)\n",
        "# Imprime la variable con print()\n",
        "print(type(my_int))\n",
        "# El comando \"type\" imprime el tipo de dato de una variable, en este caso\n",
        "# my_int, contiene un dato de tipo entero (int) \n",
        "\n",
        "# El tipo de dato int es un entero sin valores decimales"
      ],
      "metadata": {
        "colab": {
          "base_uri": "https://localhost:8080/"
        },
        "id": "gf6TlWGcR4kT",
        "outputId": "188618af-040a-4124-839f-d253e3653ba7"
      },
      "execution_count": null,
      "outputs": [
        {
          "output_type": "stream",
          "name": "stdout",
          "text": [
            "100\n",
            "<class 'int'>\n"
          ]
        }
      ]
    },
    {
      "cell_type": "code",
      "source": [
        "my_string = \"205\"\n",
        "# Inicializa la variable my_string con una cadena la texto \"100\"\n",
        "print(type(my_string))\n",
        "# Imprime el tipo de dato de my_string, el cual en este momento es un string\n",
        "my_int = int(my_string)\n",
        "# Guarda en la variable my_int el valor en entero que tenía my_string\n",
        "# con el comando int(variable) puede convertir cualquier tipo de dato a entero\n",
        "print(type(my_int))\n",
        "# Imprime el tipo de dato que contiene la variable my_int\n",
        "\n",
        "# Esta función es muy útil ya que cualquier entrada que proporcione el usuario\n",
        "# entrará al programa como un string, por eso el meme del proyecto calculadora\n",
        "# 1+1 = 11, ya que el programa concatena los strings"
      ],
      "metadata": {
        "colab": {
          "base_uri": "https://localhost:8080/"
        },
        "id": "RdccgcSlTLe2",
        "outputId": "1356def5-a60d-4913-816f-53c108e69a31"
      },
      "execution_count": null,
      "outputs": [
        {
          "output_type": "stream",
          "name": "stdout",
          "text": [
            "<class 'str'>\n",
            "<class 'int'>\n"
          ]
        }
      ]
    },
    {
      "cell_type": "code",
      "source": [
        "my_string = \"100\"\n",
        "# Inicializa la variable my_string con una cadena la texto \"100\"\n",
        "my_float = float(my_string)\n",
        "# Guarda en la variable my_float el valor en flotante que tenía my_string\n",
        "# con el comando float(variable) puede convertir cualquier tipo de dato a flotante\n",
        "print(type(my_float))\n",
        "# Imprime el tipo de dato que tiene la variable my_float\n",
        "\n",
        "# Los flotantes en python requieren de tener un valor decimal, este ejemplo no\n",
        "# es correcto si se busca presentar el tipo de dato float, ya que el tipo de dato\n",
        "# óptimo para guardar este valor es un int.\n",
        "\n",
        "n_int = 100\n",
        "n_float = 100.0\n",
        "print(\"Este dato es de tipo\", type(n_int), \"a pesar de que equivalen al mismo valor matemático, este dato es de tipo\", type(n_float))"
      ],
      "metadata": {
        "colab": {
          "base_uri": "https://localhost:8080/"
        },
        "id": "q82ly8cyV2Q0",
        "outputId": "4dc88eb4-c5d9-4091-fcf8-1ff910c5b786"
      },
      "execution_count": null,
      "outputs": [
        {
          "output_type": "stream",
          "name": "stdout",
          "text": [
            "<class 'float'>\n",
            "Este dato es de tipo <class 'int'> a pesar de que equivalen al mismo valor matemático, este dato es de tipo <class 'float'>\n"
          ]
        }
      ]
    },
    {
      "cell_type": "code",
      "source": [
        "my_bool = True\n",
        "# Inicializa la variable my_bool con el valor false\n",
        "print(my_bool)\n",
        "# Imprime el estado de la variable\n",
        "print(type(my_bool))\n",
        "# Imprime el tipo de dato que tiene la variable (false)\n",
        "\n",
        "# El tipo de variable boolean tiene dos estados, true or false, es útil para\n",
        "# definir estados de funciones que requieren unas de otras, además de \n",
        "# operaciones lógicas."
      ],
      "metadata": {
        "colab": {
          "base_uri": "https://localhost:8080/"
        },
        "id": "OPx_npp-aOJW",
        "outputId": "9579d2d4-1a97-49e3-c470-5ff1da1ec97c"
      },
      "execution_count": null,
      "outputs": [
        {
          "output_type": "stream",
          "name": "stdout",
          "text": [
            "True\n",
            "<class 'bool'>\n"
          ]
        }
      ]
    },
    {
      "cell_type": "code",
      "source": [
        "# Imprimen el tipo de operación y un ejemplo básico\n",
        "print(\"Suma \", 12+89)\n",
        "print(\"Resta \", 5-20)\n",
        "print(\"Multiplicación \", 7*8)\n",
        "print(\"División \", int(100/2.5))\n",
        "print('Exponencial', 2**8)\n",
        "# Esta sección presenta una introducción a las operaciones básicas en python"
      ],
      "metadata": {
        "colab": {
          "base_uri": "https://localhost:8080/"
        },
        "id": "Qit4fo_DeBcA",
        "outputId": "9d80c775-136a-47fd-8ff3-0097aab0a6fc"
      },
      "execution_count": null,
      "outputs": [
        {
          "output_type": "stream",
          "name": "stdout",
          "text": [
            "Suma  101\n",
            "Resta  -15\n",
            "Multiplicación  56\n",
            "División  40\n",
            "Exponencial 256\n"
          ]
        }
      ]
    },
    {
      "cell_type": "code",
      "source": [
        "# Misma operación, mismo resultado; a pesar de que difieren en sus tipos de dato\n",
        "print(1/3)\n",
        "print(1.0/3)"
      ],
      "metadata": {
        "colab": {
          "base_uri": "https://localhost:8080/"
        },
        "id": "zlK4g4tre26G",
        "outputId": "e9a2084c-077a-4968-95aa-526b15db322e"
      },
      "execution_count": null,
      "outputs": [
        {
          "output_type": "stream",
          "name": "stdout",
          "text": [
            "0.3333333333333333\n",
            "0.3333333333333333\n"
          ]
        }
      ]
    },
    {
      "cell_type": "code",
      "source": [
        "my_list = ['Hello', 'Python']#, 1, 2, True]\n",
        "# Crea una lista con dos strings en la posición 0 y 1\n",
        "print(my_list)\n",
        "# Imprime la lista\n",
        "\n",
        "# El código que está comentado sirve para demostrar que en python podemos tener\n",
        "# una lista con diferentes tipos de datos"
      ],
      "metadata": {
        "colab": {
          "base_uri": "https://localhost:8080/"
        },
        "id": "zPH-Gt6ffJ5N",
        "outputId": "1aae23e3-5027-47bc-ff2b-80521360a254"
      },
      "execution_count": null,
      "outputs": [
        {
          "output_type": "stream",
          "name": "stdout",
          "text": [
            "['Quant', 'Connect']\n"
          ]
        }
      ]
    },
    {
      "cell_type": "code",
      "source": [
        "my_list = ['Hello', 'Python', 1, 2, True]\n",
        "# Inicializa una lista con cinco valores\n",
        "print(len(my_list))\n",
        "# Con la función len podemos obtener la longitud de la lista\n",
        "print(my_list[1])\n",
        "# El index de una lista comienza en cero, en este caso imprime el segundo valor\n",
        "# que podemos encontrar en esta.\n",
        "print(my_list[len(my_list) -1])\n",
        "# Como el index comienza en cero para obtener el último valor de la lista \n",
        "# podemos hallar la longitud y restarle uno."
      ],
      "metadata": {
        "colab": {
          "base_uri": "https://localhost:8080/"
        },
        "id": "lyqbxe3ajEng",
        "outputId": "65bca3c4-a05c-44ee-d921-d2255f2214cf"
      },
      "execution_count": null,
      "outputs": [
        {
          "output_type": "stream",
          "name": "stdout",
          "text": [
            "5\n",
            "Python\n",
            "True\n"
          ]
        }
      ]
    },
    {
      "cell_type": "code",
      "source": [
        "my_list = ['Hello', 'Python', 1, 2, True]\n",
        "my_list[3] = 'siu'\n",
        "# En este caso estamos actualizando un valor en la lista, en este caso en el\n",
        "# index 3, es decir, cambiará 2 por 'siu'\n",
        "print(my_list)"
      ],
      "metadata": {
        "colab": {
          "base_uri": "https://localhost:8080/"
        },
        "id": "DK6552lDj6_t",
        "outputId": "f396c28a-6385-48b4-dfa0-8eb3c8c00c6c"
      },
      "execution_count": null,
      "outputs": [
        {
          "output_type": "stream",
          "name": "stdout",
          "text": [
            "['Hello', 'Python', 1, 'siu', True]\n"
          ]
        }
      ]
    },
    {
      "cell_type": "code",
      "source": [
        "my_list = ['Hello', 'Python', 1, 2, True]\n",
        "print(my_list[1:4])\n",
        "# También podemos dividir la lista por secciones, desde el primer valor pero no\n",
        "# toma el último indicado, en este caso tomamos los valores en las posiciones \n",
        "# desde el 1 hasta el 3"
      ],
      "metadata": {
        "colab": {
          "base_uri": "https://localhost:8080/"
        },
        "id": "HAmS0fiAkGt_",
        "outputId": "c39c9826-6829-40ae-847a-87cf8943f2c2"
      },
      "execution_count": null,
      "outputs": [
        {
          "output_type": "stream",
          "name": "stdout",
          "text": [
            "['Python', 1, 2]\n"
          ]
        }
      ]
    },
    {
      "cell_type": "code",
      "source": [
        "print(my_list[2:])\n",
        "# Toma desde el valor en la posición 2 hasta el valor final \n",
        "print(my_list[:4])\n",
        "# Toma desde el primer valor (i[0]) hasta el i[4]"
      ],
      "metadata": {
        "colab": {
          "base_uri": "https://localhost:8080/"
        },
        "id": "J0wX3P2pk0vF",
        "outputId": "371f3886-e35e-4973-8d30-5b87b3eebc03"
      },
      "execution_count": null,
      "outputs": [
        {
          "output_type": "stream",
          "name": "stdout",
          "text": [
            "['Connect', 1, 2, 3]\n",
            "['Quant', 'Connect', 1]\n"
          ]
        }
      ]
    },
    {
      "cell_type": "code",
      "source": [
        "my_list = ['Hello', 'Python', 1, 2, True]\n",
        "my_list.append('Python')\n",
        "# Con la función append añadimos un valor al final de la lista\n",
        "print(my_list)\n",
        "my_list.remove('Python')\n",
        "# Con la función remove podemos eliminar de la lista un valor deseado\n",
        "print(my_list)\n",
        "\n",
        "# La función remove solo elimina un dato, por lo que si el valor a eliminar\n",
        "# está repetido solo removerá el primero que encuentre"
      ],
      "metadata": {
        "colab": {
          "base_uri": "https://localhost:8080/"
        },
        "id": "MjkAYMoblghU",
        "outputId": "f1d95292-e8ad-40ff-a170-5cbbf700d31f"
      },
      "execution_count": null,
      "outputs": [
        {
          "output_type": "stream",
          "name": "stdout",
          "text": [
            "['Hello', 'Python', 1, 2, True, 'Python']\n",
            "['Hello', 1, 2, True, 'Python']\n"
          ]
        }
      ]
    },
    {
      "cell_type": "code",
      "source": [
        "my_tuple = ['Hello', 'to', 'Python', 'lovers', 1,]\n",
        "print(my_tuple[:-1])\n",
        "# Slice desde el index[0] hasta el penúltimo valor de la tupla usando la lógica\n",
        "# del slice\n",
        "\n",
        "# La diferencia entre una tupla y una lista es que la tupla es inmutable\n",
        "# es decir, no podemos actualizar o cambiar sus valores\n"
      ],
      "metadata": {
        "colab": {
          "base_uri": "https://localhost:8080/"
        },
        "id": "xM8INHb7n2Ku",
        "outputId": "591bc279-79e9-4f9d-f2f0-8887f80b4aaa"
      },
      "execution_count": null,
      "outputs": [
        {
          "output_type": "stream",
          "name": "stdout",
          "text": [
            "['Hello', 'to', 'Python', 'lovers']\n"
          ]
        }
      ]
    },
    {
      "cell_type": "code",
      "source": [
        "stock_list = ['Francia','Korea','USA','Francia','USA','Suiza','Suiza','Korea']\n",
        "# Crea un conjunto de strings\n",
        "stock_set = set(stock_list)\n",
        "# Con la función set elimina los elementos repetidos del conjunto\n",
        "print(stock_set)\n",
        "# Imprime el nuevo conjunto\n",
        "\n",
        "# Los conjuntos son una colección de objetos sin orden, al igual que en las\n",
        "# tuplas no admite asignación de elementos"
      ],
      "metadata": {
        "colab": {
          "base_uri": "https://localhost:8080/"
        },
        "id": "Efe2T1SZp1JF",
        "outputId": "c87e050e-6e40-4f15-b81b-eac6e852a0d6"
      },
      "execution_count": null,
      "outputs": [
        {
          "output_type": "stream",
          "name": "stdout",
          "text": [
            "{'USA', 'Suiza', 'Korea', 'Francia'}\n"
          ]
        }
      ]
    },
    {
      "cell_type": "code",
      "source": [
        "my_dic = {'G2':'M1xwell', 'Sentinels':'TenZ', 'Acend':'Cned'}\n",
        "# Crea un diccionario, una colección constituida por pares de datos \n",
        "# en forma de llave:valor\n",
        "print(my_dic['G2'])\n",
        "# Imprime el valor asignado a dicha llave, en este caso 'M1xwell'\n",
        "my_dic['G2'] = 'Nukkye'\n",
        "# Podemos actualizar los valores dentro del diccionario para cualquier llave\n",
        "print(my_dic['G2'])\n",
        "# Imprime el valor asignado a dicha llave, en este caso 'Alphabet Company'\n",
        "print(my_dic.keys())\n",
        "# El comando .keys() permite ver un listado de todas las llaves en el diccionario "
      ],
      "metadata": {
        "colab": {
          "base_uri": "https://localhost:8080/"
        },
        "id": "boDNXjDHJpfW",
        "outputId": "2250f54c-fb5c-4c97-f17c-7e76697cb9c0"
      },
      "execution_count": null,
      "outputs": [
        {
          "output_type": "stream",
          "name": "stdout",
          "text": [
            "M1xwell\n",
            "Nukkye\n",
            "dict_keys(['G2', 'Sentinels', 'Acend'])\n"
          ]
        }
      ]
    },
    {
      "cell_type": "code",
      "source": [
        "my_str = 'Logical Operations and Loops'\n",
        "print(my_str[8:])\n",
        "# También podemos usar la lógica slice para los strings como en este caso que \n",
        "# imprime desde la letra 9 hasta el final del string"
      ],
      "metadata": {
        "colab": {
          "base_uri": "https://localhost:8080/"
        },
        "id": "mnvRVXO5JpWo",
        "outputId": "f6d89db1-2b96-45af-de62-db3fbbcd4175"
      },
      "execution_count": null,
      "outputs": [
        {
          "output_type": "stream",
          "name": "stdout",
          "text": [
            "Operations and Loops\n"
          ]
        }
      ]
    },
    {
      "cell_type": "code",
      "source": [
        "# Existen diferentes funciones para strings, a continuación vamos a ver tres\n",
        "print('Baby you were everything I ever wanted, wedding ring'.count('i'))\n",
        "# .count() recibe como parametro un string y retorna cuantas veces está\n",
        "# presente en el string original \n",
        "print('Baby you were everything I ever wanted, wedding ring'.find('w'))\n",
        "# .find() recibe como parámetro un string y retorna la posición index\n",
        "# en la que lo encuentra por primera vez en el string original\n",
        "print('Baby you were everything I ever wanted, wedding ring'.replace('i','u'))\n",
        "# .replace() recibe dos parámetros strings, el primero es aquel que va a reemplazar\n",
        "# y el segundo por el cual lo reemplazará."
      ],
      "metadata": {
        "colab": {
          "base_uri": "https://localhost:8080/"
        },
        "id": "j2Kt6iohLftI",
        "outputId": "01b8eeed-447a-4c4d-ecc9-5d407b528106"
      },
      "execution_count": null,
      "outputs": [
        {
          "output_type": "stream",
          "name": "stdout",
          "text": [
            "3\n",
            "9\n",
            "Baby you were everythung I ever wanted, weddung rung\n"
          ]
        }
      ]
    },
    {
      "cell_type": "code",
      "source": [
        "frase = 'Se sintió puro, explícito, invencible, en el momento de responder: -Mierda.'\n",
        "splited_list = frase.split(': ')\n",
        "# Asignamos a la variable splited_list el resultado del método split() ejecutado\n",
        "# sobre el valor de frase, el método split() divide un string en n partes siempre\n",
        "# que encuentre el valor ingresado por parámetro, en este caso (\": \")\n",
        "pregunta = splited_list[0]\n",
        "respuesta = splited_list[1]\n",
        "# En este caso el split retorna dos valores divididos, el primero es asignado a\n",
        "# la variable pregunta y el segundo a respuesta\n",
        "print(pregunta, respuesta)\n",
        "# Imprime los valores, por la coma agrega un espacio intermedio por default\n",
        "pal = respuesta.split('-')[1]\n",
        "# Ahora haremos un split sobre la variable respuesta separando por el caracter \":\"\n",
        "# este split retornará tres valores pero solo asignaremos el segundo a la \n",
        "# variable pal\n",
        "print(pal)"
      ],
      "metadata": {
        "colab": {
          "base_uri": "https://localhost:8080/"
        },
        "id": "-nXQDC_TM1BI",
        "outputId": "c10255fb-73f4-45ce-88c9-d7b86cc395ea"
      },
      "execution_count": null,
      "outputs": [
        {
          "output_type": "stream",
          "name": "stdout",
          "text": [
            "Se sintió puro, explícito, invencible, en el momento de responder -Mierda.\n",
            "Mierda.\n"
          ]
        }
      ]
    },
    {
      "cell_type": "code",
      "source": [
        "# Existen diferentes maneras de concatenar datos en mensajes o strings\n",
        "my_phrase = 'Escritor: {}, Obra: {}'.format('García Marquez','El coronel..')\n",
        "# En este método cada {} hace referencia a la entrada de un dato que recibirá\n",
        "# por parámetro el método .format\n",
        "print(my_phrase)\n",
        "\n",
        "print('La temperatura es %f°'%12.3)\n",
        "# Este método usado en la función print usa %inicial_de_tipo_de_dato para hacer\n",
        "# el llamado a los datos que se asignarán posteriormente\n",
        "print('%s to %s its %i o clock'%('Hello','Pythonlovers', 10))"
      ],
      "metadata": {
        "colab": {
          "base_uri": "https://localhost:8080/"
        },
        "id": "AUitWJ3MW3Bw",
        "outputId": "31390147-e424-457b-979a-2e3a523d4f66"
      },
      "execution_count": null,
      "outputs": [
        {
          "output_type": "stream",
          "name": "stdout",
          "text": [
            "Escritor: García Marquez, Obra: El coronel..\n",
            "La temperatura es 12.300000°\n",
            "Hello to Pythonlovers its 10 o clock\n"
          ]
        }
      ]
    },
    {
      "cell_type": "code",
      "source": [
        "# 02 Logical Operations and Loops\n",
        "\n",
        "# Ejemplos de diferentes operadores de comparación que retornan valores lógicos\n",
        "print(1 < 0)\n",
        "print(1 == 1.0)\n",
        "print(type(1) == type (1.0))\n",
        "print(1 != 0)\n",
        "print(5 >= 6)"
      ],
      "metadata": {
        "colab": {
          "base_uri": "https://localhost:8080/"
        },
        "id": "DdONIUW6eL3y",
        "outputId": "3af1ee45-61b3-4889-fd9f-1b2153fcc548"
      },
      "execution_count": null,
      "outputs": [
        {
          "output_type": "stream",
          "name": "stdout",
          "text": [
            "False\n",
            "True\n",
            "False\n",
            "True\n",
            "False\n"
          ]
        }
      ]
    },
    {
      "cell_type": "code",
      "source": [
        "# Ahora usaremos operadores lógicos \n",
        "# AND, para que retorne True se deben cumplir las dos condiciones\n",
        "print(1 == 1.0 and type(1) != type (1.0))\n",
        "# OR, para que retorne True solo es necesario que se cumpla una de las condiciones\n",
        "print(1 != 1.0 or type(1) != type (1.0))\n",
        "# Not, para que retorne True debe ser una afirmación verdadera\n",
        "print(1 is not float)\n",
        "# Podemos usar todos los tipos de operadores para crear una método más grande\n",
        "print((1 == 1.0 or type(1) != type (1.0)) and (1 != 1.0 and type(1) == type (1.0)))"
      ],
      "metadata": {
        "colab": {
          "base_uri": "https://localhost:8080/"
        },
        "id": "UH5hroPbe2Mb",
        "outputId": "39d18b0e-87e4-42c8-f883-c7ed59d10004"
      },
      "execution_count": null,
      "outputs": [
        {
          "output_type": "stream",
          "name": "stdout",
          "text": [
            "True\n",
            "True\n",
            "True\n",
            "False\n"
          ]
        }
      ]
    },
    {
      "cell_type": "code",
      "source": [
        "i = 5\n",
        "n = 7\n",
        "if i%2==0 and n%2==0:\n",
        "    print('Ambas son pares')\n",
        "elif i%2==0 and not n%2==0:\n",
        "    print('i es par pero n es impar')\n",
        "elif n%2==0 and not i%2==0:\n",
        "    print('n es par pero i es impar')\n",
        "else:\n",
        "    print('Ambas son impares')\n",
        "\n",
        "# Con este if podemos validar que el valor de dos variables, la estructura if\n",
        "# cuenta con elif y else para descartar o comrpobar cada caso que pueda presentar\n",
        "# lógicamente el programa"
      ],
      "metadata": {
        "colab": {
          "base_uri": "https://localhost:8080/"
        },
        "id": "51OcAlCShCIF",
        "outputId": "0941bf53-0cd0-4870-926f-508d74a73f28"
      },
      "execution_count": null,
      "outputs": [
        {
          "output_type": "stream",
          "name": "stdout",
          "text": [
            "Ambas son impares\n"
          ]
        }
      ]
    },
    {
      "cell_type": "code",
      "source": [
        "n = 3\n",
        "while n:\n",
        "  print(n) \n",
        "  n -= 1\n",
        "\n",
        "# Con la estructura while podemos repetir una acción hasta que cierto valor se cumpla\n",
        "# o como en este caso, se deje de cumplir, es importante tener una iteración de\n",
        "# tipo variable -+= n para que no se convierta en un bucle"
      ],
      "metadata": {
        "colab": {
          "base_uri": "https://localhost:8080/"
        },
        "id": "feNOMFoJiy9N",
        "outputId": "9a0f628a-a1ee-4ead-e3f5-eed2ccd99861"
      },
      "execution_count": null,
      "outputs": [
        {
          "output_type": "stream",
          "name": "stdout",
          "text": [
            "3\n",
            "2\n",
            "1\n"
          ]
        }
      ]
    },
    {
      "cell_type": "code",
      "source": [
        "no_recomendados = [\"Dulces\", \"Cervezas\"]\n",
        "seleccionados = [\"Pollo\", \"Carne\", \"Dulces\", \"Cervezas\", \"Pasta\"]\n",
        "for i in no_recomendados:\n",
        "  # recorremos la lista\n",
        "  if i in seleccionados:\n",
        "    # validamos si el valor se encuentra en nuestra selección\n",
        "    seleccionados.remove(i)\n",
        "    # si es así removemos y continuamos\n",
        "print(seleccionados)\n",
        "# al teminar de recorrer imprimimos el estado final de la lista\n",
        "\n",
        "# En este caso hemos usado el bucle for para recorrer la lista de no_recomendados\n",
        "# este bucle es útil para recorrer estructuras validando su valor"
      ],
      "metadata": {
        "colab": {
          "base_uri": "https://localhost:8080/"
        },
        "id": "NdR72WTgjpnr",
        "outputId": "ab545e04-c229-4136-cb3e-4b48d3578395"
      },
      "execution_count": null,
      "outputs": [
        {
          "output_type": "stream",
          "name": "stdout",
          "text": [
            "['Pollo', 'Carne', 'Pasta']\n"
          ]
        }
      ]
    },
    {
      "cell_type": "code",
      "source": [
        "stock = [\"1\", \"1\", \"0\", \"-1\", \"2\"]\n",
        "for i in stock:\n",
        "  # recorremos la lista stock\n",
        "  if i == \"0\":\n",
        "    # si encuentra un 0 finalizamos la acción y pasamos a la siguiente iteración\n",
        "    continue\n",
        "  if i == \"-1\":\n",
        "    # si encuentra un -1 imprime un mensaje de alerta y rompe el bucle\n",
        "    print(\"-1 encontrado\")\n",
        "    break\n",
        "  print(i)\n",
        "\n",
        "# Continue es usado cuando queremos obviar una iteración y pasar directamente\n",
        "# a la siguiente, break por su parte nos permite romper el bucle, lo podemos usar\n",
        "# para evitar tiempo de ejecución ineficiente"
      ],
      "metadata": {
        "colab": {
          "base_uri": "https://localhost:8080/"
        },
        "id": "0Eay5Y7Anb82",
        "outputId": "21570443-ddd7-4617-c549-18e82fed9ed1"
      },
      "execution_count": null,
      "outputs": [
        {
          "output_type": "stream",
          "name": "stdout",
          "text": [
            "1\n",
            "1\n",
            "-1 encontrado\n"
          ]
        }
      ]
    },
    {
      "cell_type": "code",
      "source": [
        "# Hacemos el ejemplo anterior con comprensión de listas\n",
        "no_recomendados = [\"Dulces\", \"Cervezas\"]\n",
        "seleccionados = [\"Pollo\", \"Carne\", \"Dulces\", \"Cervezas\", \"Pasta\"]\n",
        "seleccionados = [i for i in seleccionados if i not in no_recomendados]\n",
        "# Recorremos la lista y añadimos si NO SE ENCUENTRA en la lista no_recomendados\n",
        "print(seleccionados)"
      ],
      "metadata": {
        "colab": {
          "base_uri": "https://localhost:8080/"
        },
        "id": "5Gsyr3f9oNbG",
        "outputId": "7af01108-5c15-4cf3-a892-a8c05d7403dd"
      },
      "execution_count": null,
      "outputs": [
        {
          "output_type": "stream",
          "name": "stdout",
          "text": [
            "['Pollo', 'Carne', 'Pasta']\n"
          ]
        }
      ]
    },
    {
      "cell_type": "code",
      "source": [
        "teams = ['G2','KRU','Sentinels']\n",
        "print(\"Los enfrentamientos de la fase de grupos serán:\", [str(x) +' vs '+ str(y) for x in teams for y in teams if x!=y])\n",
        "# En este ejemplo las variables recorren la lista de equipos e imprimen los \n",
        "# enfrentamientos que se darán evitando así el error de enfrentar al mismo equipo"
      ],
      "metadata": {
        "colab": {
          "base_uri": "https://localhost:8080/"
        },
        "id": "JEwfW47MsnAQ",
        "outputId": "57b850f2-62f6-4b2d-89ea-c852daa2f774"
      },
      "execution_count": null,
      "outputs": [
        {
          "output_type": "stream",
          "name": "stdout",
          "text": [
            "Los enfrentamientos de la fase de grupos serán: ['G2 vs KRU', 'G2 vs Sentinels', 'KRU vs G2', 'KRU vs Sentinels', 'Sentinels vs G2', 'Sentinels vs KRU']\n"
          ]
        }
      ]
    },
    {
      "cell_type": "code",
      "source": [
        ""
      ],
      "metadata": {
        "id": "gFqAkFRvSV7n"
      },
      "execution_count": null,
      "outputs": []
    },
    {
      "cell_type": "code",
      "source": [
        "# 03 Functions and Objective-Oriented Programming\n",
        "\n",
        "def f_pares(i,n):\n",
        "\n",
        "  if i%2==0 and n%2==0:\n",
        "      return 'Ambos son pares'\n",
        "  elif i%2==0 and not n%2==0:\n",
        "      return 'i es par pero n es impar'\n",
        "  elif n%2==0 and not i%2==0:\n",
        "     return 'n es par pero i es impar'\n",
        "  else:\n",
        "      return 'Ambos son impares'\n",
        "\n",
        "print(f_pares(5,3))\n",
        "\n",
        "# Utilizamos el método de par o impar para convertirlo en una función y así poder\n",
        "# llamarlo fácilmente en cualquier instante del prorgrama, haciendolo un proceso\n",
        "# más práctico, las funciones no requieren de parámetros obligatoriamente, pero\n",
        "# esta función debe contar con dos parámetros para funcionar correctamente"
      ],
      "metadata": {
        "colab": {
          "base_uri": "https://localhost:8080/"
        },
        "id": "hQLemGrLuEWK",
        "outputId": "df7eb64f-47ae-43ba-df96-940171ea98c4"
      },
      "execution_count": null,
      "outputs": [
        {
          "output_type": "stream",
          "name": "stdout",
          "text": [
            "Ambas son impares\n"
          ]
        }
      ]
    },
    {
      "cell_type": "code",
      "source": [
        "n_list = [1, 2, 3 ,4 , 5, 6]\n",
        "print('n_list tiene %i valores y %i posiciones' %(len(n_list), len(n_list)-1))\n",
        "# Usamos la notación de % para asignar los valores al mensaje\n",
        "for i in range(len(n_list)):\n",
        "  print(n_list[i]*2)\n",
        "# Usamos la función range para recorrer la lista sin llamarla en la inicialización\n",
        "# del for\n"
      ],
      "metadata": {
        "colab": {
          "base_uri": "https://localhost:8080/"
        },
        "id": "yLn3XQWMwiX5",
        "outputId": "69d77683-937a-459f-82be-f81e806dd1fd"
      },
      "execution_count": null,
      "outputs": [
        {
          "output_type": "stream",
          "name": "stdout",
          "text": [
            "n_list tiene 6 valores y 5 posiciones\n",
            "2\n",
            "4\n",
            "6\n",
            "8\n",
            "10\n",
            "12\n"
          ]
        }
      ]
    },
    {
      "cell_type": "code",
      "source": [
        "exp_list = list(map(lambda x, y: x**y, sorted([7,4,9]),sorted([5,2,3])))\n",
        "print(exp_list)\n",
        "# La función map permite ejecutar una función sobre una colección de datos, en\n",
        "# este caso he usado el comando lambda para crear una subfunción que solo \n",
        "# funcionará para este método y se aplicará sobre las dos listas presentes las\n",
        "# cuales son ordenadas a través del método sorted, para finalizar añadimos el\n",
        "# resultado a una variable y la imprimimos"
      ],
      "metadata": {
        "colab": {
          "base_uri": "https://localhost:8080/"
        },
        "id": "nLPbUWZZzTcy",
        "outputId": "551f1a54-e84b-4194-db55-665a37d2129d"
      },
      "execution_count": null,
      "outputs": [
        {
          "output_type": "stream",
          "name": "stdout",
          "text": [
            "[16, 343, 59049]\n"
          ]
        }
      ]
    },
    {
      "cell_type": "code",
      "source": [
        "s_age = [('Pipe',18),('Juan',27),('Diego',69),('David',23)]\n",
        "s_age.sort(key = lambda x: x[1])#, reverse = True)\n",
        "print(s_age)\n",
        "\n",
        "# En este ejemplo hemos organizado la lista a partir de la menor edad presentada\n",
        "# gracias al método sort al cual le hemos pasado como criterio de ordenamiento\n",
        "# la posición 1 de cada dato (la edad). Si ejecutamos el código comentado podemos\n",
        "# ver como el método lo ordena de mayor a menor "
      ],
      "metadata": {
        "colab": {
          "base_uri": "https://localhost:8080/"
        },
        "id": "jF7bN9YL1XYq",
        "outputId": "a5bf9dfb-d526-4637-ab77-571fe691b583"
      },
      "execution_count": null,
      "outputs": [
        {
          "output_type": "stream",
          "name": "stdout",
          "text": [
            "[('Pipe', 18), ('David', 23), ('Juan', 27), ('Diego', 69)]\n"
          ]
        }
      ]
    },
    {
      "cell_type": "code",
      "source": [
        "class bolsa:\n",
        "    # En el método init hemos inicializado los atributos que tendrán por default\n",
        "    # cada uno de los objetos creados, además de un atributo que representa el \n",
        "    # porcentaje de rendimiento de la acción según los valores ingresados \n",
        "    def __init__(self, nombre, v_inicial, v_final):\n",
        "        self.nombre = nombre\n",
        "        self.v_inicial = v_inicial\n",
        "        self.v_final = v_final\n",
        "        self.perc_return = float((100*v_final)/v_inicial)-100\n",
        " \n",
        "    # Con el método update permitimos al programa actualizar los valores de la\n",
        "    # acción en cualquier momento del programa\n",
        "    def update(self, v_inicial, v_final):\n",
        "        self.v_inicial = v_inicial\n",
        "        self.v_final = v_final\n",
        "        self.perc_return = float((100*v_final)/v_inicial)-100\n",
        "\n",
        "    # Con este método imprimimos el valor de nuestra variable que representa\n",
        "    # el rendimiento porcentual de la acción\n",
        "    def print_return(self):\n",
        "        print('El porcentaje de rendimiento de la acción es de: {}%'.format(round(self.perc_return, 2)))\n",
        "      \n",
        "b_apple = bolsa('Apple', 345, 350)\n",
        "b_tesla = bolsa('Tesla Motors', 520, 450)\n",
        "# Creamos dos objetos de la clase bolsa\n",
        "b_tesla.print_return()\n",
        "b_apple.print_return()\n",
        "# Llamamos el método print_return() \n",
        "b_apple.tipo = 'Tecnologia'\n",
        "b_apple.tipo\n",
        "# Añadimos un atributo único al objeto b_apple\n",
        "b_tesla.update(450, 435)\n",
        "# Con el método update() actualizamos los valores de la acción\n",
        "b_tesla.print_return()\n",
        "# Con dir() podemos ver los métodos y atributos definidos en el objeto b_apple\n",
        "# encontramos el atributo tipo que es exclusivo ya que lo hemos creado por fuera\n",
        "# de nuestra clase\n",
        "dir(b_apple)"
      ],
      "metadata": {
        "colab": {
          "base_uri": "https://localhost:8080/"
        },
        "id": "FV3zLfIWNM3S",
        "outputId": "75ad7eab-3321-4f82-8764-008a3e0cbaa3"
      },
      "execution_count": null,
      "outputs": [
        {
          "output_type": "stream",
          "name": "stdout",
          "text": [
            "El porcentaje de rendimiento de la acción es de: -13.46%\n",
            "El porcentaje de rendimiento de la acción es de: 1.45%\n",
            "El porcentaje de rendimiento de la acción es de: -3.33%\n"
          ]
        },
        {
          "output_type": "execute_result",
          "data": {
            "text/plain": [
              "['__class__',\n",
              " '__delattr__',\n",
              " '__dict__',\n",
              " '__dir__',\n",
              " '__doc__',\n",
              " '__eq__',\n",
              " '__format__',\n",
              " '__ge__',\n",
              " '__getattribute__',\n",
              " '__gt__',\n",
              " '__hash__',\n",
              " '__init__',\n",
              " '__init_subclass__',\n",
              " '__le__',\n",
              " '__lt__',\n",
              " '__module__',\n",
              " '__ne__',\n",
              " '__new__',\n",
              " '__reduce__',\n",
              " '__reduce_ex__',\n",
              " '__repr__',\n",
              " '__setattr__',\n",
              " '__sizeof__',\n",
              " '__str__',\n",
              " '__subclasshook__',\n",
              " '__weakref__',\n",
              " 'nombre',\n",
              " 'perc_return',\n",
              " 'print_return',\n",
              " 'tipo',\n",
              " 'update',\n",
              " 'v_final',\n",
              " 'v_inicial']"
            ]
          },
          "metadata": {},
          "execution_count": 25
        }
      ]
    },
    {
      "cell_type": "code",
      "source": [
        "# Creamos una clase que hereda las funciones y atributos de la clase padre bolsa\n",
        "class child(bolsa):\n",
        "  # Esta clase hijo puede tener atributos exclusivos, como en este caso con tipo\n",
        "  def __init__(self, tipo):\n",
        "    self.tipo = tipo\n",
        "  # Además de funciones o métodos exclusivos\n",
        "  def pr_info(self):\n",
        "    print('Valor inicial: {}. Valor final: {}. Porcentaje: {}%. Tipo: {}.'.format(self.v_inicial, self.v_final, round(self.perc_return, 2), self.tipo))\n",
        "\n",
        "b_IBM = child(\"Tecnología\")\n",
        "# Usamos los métodos update() y print_return() de la clase padre\n",
        "b_IBM.update(850, 900)\n",
        "b_IBM.print_return()\n",
        "# Usamos el método pr_info() que es exclusivo de la clase hija\n",
        "b_IBM.pr_info()"
      ],
      "metadata": {
        "colab": {
          "base_uri": "https://localhost:8080/"
        },
        "id": "tPXfiALDXOUi",
        "outputId": "4bd8c024-3250-4b01-ce91-7c75112bb34c"
      },
      "execution_count": null,
      "outputs": [
        {
          "output_type": "stream",
          "name": "stdout",
          "text": [
            "El porcentaje de rendimiento de la acción es de: 5.88%\n",
            "Valor inicial: 850. Valor final: 900. Porcentaje: 5.88%. Tipo: Tecnología.\n"
          ]
        }
      ]
    },
    {
      "cell_type": "code",
      "source": [
        "# 04 NumPy and Basic Pandas\n",
        "import numpy as np \n",
        "# Importamos NumPy, una libreria para computación científica en python, ofrece\n",
        "# herramientas para trabajar con listas multidimensionales (matrices)\n",
        "\n",
        "n_list = [14, 83, 'Azul', True]\n",
        "n_list = np.array(n_list)\n",
        "print(n_list, type(n_list))\n",
        "# Hemos creado una lista, luego de usar el comando np.array() el tipo de dato\n",
        "# es ndarray el cual representa una lista multidimensional\n"
      ],
      "metadata": {
        "colab": {
          "base_uri": "https://localhost:8080/"
        },
        "id": "_9Xt3QjChdbY",
        "outputId": "e558623b-4e17-493a-8321-e0ab9ba0c1d6"
      },
      "execution_count": null,
      "outputs": [
        {
          "output_type": "stream",
          "name": "stdout",
          "text": [
            "['14' '83' 'Azul' 'True'] <class 'numpy.ndarray'>\n",
            "[[1 2 3]\n",
            " [4 5 2]] <class 'numpy.ndarray'>\n"
          ]
        }
      ]
    },
    {
      "cell_type": "code",
      "source": [
        "n_matriz = np.array([[1,2,3],[4,5,2]])\n",
        "# Creamos una matriz de 2x3\n",
        "print(n_matriz, type(n_matriz)) \n",
        "# Gracias a que es un ndarray podemos visualizar mejor el esquema de nuestra\n",
        "# matriz con solo un print\n",
        "print('Nuestra matriz es de {}x{}'.format(n_matriz.shape[0], n_matriz.shape[1]))\n",
        "# Con shape podemos saber las dimensiones de nuestra matriz\n",
        "print(n_matriz[:,1])\n",
        "# Podemos acceder a valores exactos de la matriz con la lógica del sliced, en este\n",
        "# caso accedemos a las columnas usando ,"
      ],
      "metadata": {
        "colab": {
          "base_uri": "https://localhost:8080/"
        },
        "id": "HC7M9a9bnxMv",
        "outputId": "55960329-6481-429b-ff68-f9a98ba32292"
      },
      "execution_count": null,
      "outputs": [
        {
          "output_type": "stream",
          "name": "stdout",
          "text": [
            "[[1 2 3]\n",
            " [4 5 2]] <class 'numpy.ndarray'>\n",
            "Nuestra matriz es de 2x3\n",
            "[2 5]\n"
          ]
        }
      ]
    },
    {
      "cell_type": "code",
      "source": [
        "# Algunos métodos que tiene NumPy son: mean, std, sum, max, log\n",
        "num_array = [17,25,32,41,59,28,36,43]\n",
        "print(np.mean(num_array))\n",
        "print(np.std(num_array))\n",
        "print(np.sum(num_array))\n",
        "print(np.max(num_array))\n",
        "print(np.log(num_array))"
      ],
      "metadata": {
        "colab": {
          "base_uri": "https://localhost:8080/"
        },
        "id": "WqSJkXjupjWO",
        "outputId": "47f25ba5-e1ef-4351-9ad4-68813ca82d46"
      },
      "execution_count": null,
      "outputs": [
        {
          "output_type": "stream",
          "name": "stdout",
          "text": [
            "35.125\n",
            "12.035754027064527\n",
            "281\n",
            "59\n",
            "[2.83321334 3.21887582 3.4657359  3.71357207 4.07753744 3.33220451\n",
            " 3.58351894 3.76120012]\n"
          ]
        }
      ]
    },
    {
      "cell_type": "code",
      "source": [
        "# Pandas\n",
        "import pandas as pd\n",
        "\n",
        "vals = [453, 349, 54]\n",
        "# Creamos un array de valores numéricos\n",
        "serie = pd.Series(vals)\n",
        "# Lo convertimos en una serie para poder usar los métodos de pandas\n",
        "print(serie)\n",
        "# Podemos modificar el index de nuestra serie ya existente\n",
        "serie.index = ['a','b','c']\n",
        "print(serie)\n",
        "# Una serie puede usar la lógica del sliced\n",
        "print(serie[:2])\n",
        "# También podemos actualizar los valores de una serie, deben ser del mismo tipo\n",
        "# de dato\n",
        "serie[0] = 12"
      ],
      "metadata": {
        "colab": {
          "base_uri": "https://localhost:8080/"
        },
        "id": "JKDNx_Xrqcv6",
        "outputId": "f0de4e5c-7763-400c-b7f6-aac8515bf8f4"
      },
      "execution_count": null,
      "outputs": [
        {
          "output_type": "stream",
          "name": "stdout",
          "text": [
            "0    453\n",
            "1    349\n",
            "2     54\n",
            "dtype: int64\n",
            "a    453\n",
            "b    349\n",
            "c     54\n",
            "dtype: int64\n",
            "a    453\n",
            "b    349\n",
            "dtype: int64\n"
          ]
        }
      ]
    },
    {
      "cell_type": "code",
      "source": [
        "# Una serie puede tener el atributo nombre\n",
        "serie = pd.Series(vals, name ='Estado de cuenta mensual')\n",
        "print(serie)\n",
        "# Con describe podemos obtener los datos estadísticos de nuestra serie\n",
        "print(serie.describe())"
      ],
      "metadata": {
        "colab": {
          "base_uri": "https://localhost:8080/"
        },
        "id": "c4PX0kp473LI",
        "outputId": "a7f948ec-ca4c-44d3-ca93-3433d2190323"
      },
      "execution_count": null,
      "outputs": [
        {
          "output_type": "stream",
          "name": "stdout",
          "text": [
            "0    453\n",
            "1    349\n",
            "2     54\n",
            "Name: Estado de cuenta mensual, dtype: int64\n",
            "count      3.000000\n",
            "mean     285.333333\n",
            "std      206.979065\n",
            "min       54.000000\n",
            "25%      201.500000\n",
            "50%      349.000000\n",
            "75%      401.000000\n",
            "max      453.000000\n",
            "Name: Estado de cuenta mensual, dtype: float64\n"
          ]
        }
      ]
    },
    {
      "cell_type": "code",
      "source": [
        "vals_index = pd.date_range('2022-03-14', periods = len(vals), freq = 'M')\n",
        "# Con la función pd.date_range() hemos creado los índices de nuestra serie \n",
        "# tomando fechas que aumentan mensualmente\n",
        "serie.index = vals_index\n",
        "print(serie)"
      ],
      "metadata": {
        "colab": {
          "base_uri": "https://localhost:8080/"
        },
        "id": "S8llw5zQ9mIw",
        "outputId": "ef9831ea-5bc6-4de0-8118-b3c3cfadf24d"
      },
      "execution_count": null,
      "outputs": [
        {
          "output_type": "stream",
          "name": "stdout",
          "text": [
            "2022-03-31    453\n",
            "2022-04-30    349\n",
            "2022-05-31     54\n",
            "Freq: M, Name: Estado de cuenta mensual, dtype: int64\n"
          ]
        }
      ]
    },
    {
      "cell_type": "code",
      "source": [
        "print(serie.iloc[2])\n",
        "# Ya que muchas veces nuestro index es algo complejo, con .iloc podemos acceder \n",
        "# a los valores que queramos siguiendo la lógica del index\n",
        "print(serie[serie < np.mean(serie)])\n",
        "# las series permiten añadir condiciones para clasificar datos"
      ],
      "metadata": {
        "colab": {
          "base_uri": "https://localhost:8080/"
        },
        "id": "FakFZSTR-6ng",
        "outputId": "198710ae-8bda-49c6-f069-1e367198da07"
      },
      "execution_count": null,
      "outputs": [
        {
          "output_type": "stream",
          "name": "stdout",
          "text": [
            "54\n",
            "2022-05-31    54\n",
            "Freq: M, Name: Estado de cuenta mensual, dtype: int64\n"
          ]
        }
      ]
    },
    {
      "cell_type": "code",
      "source": [
        "# 05 Pandas-Resampling and DataFrame\n",
        "!pip install yfinance\n",
        "# Instalando la libreria"
      ],
      "metadata": {
        "id": "uBePi9BGc6NE",
        "colab": {
          "base_uri": "https://localhost:8080/"
        },
        "outputId": "e04e14a3-9716-4a3a-cc62-a1f8bae7155e"
      },
      "execution_count": 3,
      "outputs": [
        {
          "output_type": "stream",
          "name": "stdout",
          "text": [
            "Requirement already satisfied: yfinance in /usr/local/lib/python3.7/dist-packages (0.1.70)\n",
            "Requirement already satisfied: multitasking>=0.0.7 in /usr/local/lib/python3.7/dist-packages (from yfinance) (0.0.10)\n",
            "Requirement already satisfied: numpy>=1.15 in /usr/local/lib/python3.7/dist-packages (from yfinance) (1.21.5)\n",
            "Requirement already satisfied: lxml>=4.5.1 in /usr/local/lib/python3.7/dist-packages (from yfinance) (4.8.0)\n",
            "Requirement already satisfied: pandas>=0.24.0 in /usr/local/lib/python3.7/dist-packages (from yfinance) (1.3.5)\n",
            "Requirement already satisfied: requests>=2.26 in /usr/local/lib/python3.7/dist-packages (from yfinance) (2.27.1)\n",
            "Requirement already satisfied: pytz>=2017.3 in /usr/local/lib/python3.7/dist-packages (from pandas>=0.24.0->yfinance) (2018.9)\n",
            "Requirement already satisfied: python-dateutil>=2.7.3 in /usr/local/lib/python3.7/dist-packages (from pandas>=0.24.0->yfinance) (2.8.2)\n",
            "Requirement already satisfied: six>=1.5 in /usr/local/lib/python3.7/dist-packages (from python-dateutil>=2.7.3->pandas>=0.24.0->yfinance) (1.15.0)\n",
            "Requirement already satisfied: charset-normalizer~=2.0.0 in /usr/local/lib/python3.7/dist-packages (from requests>=2.26->yfinance) (2.0.12)\n",
            "Requirement already satisfied: certifi>=2017.4.17 in /usr/local/lib/python3.7/dist-packages (from requests>=2.26->yfinance) (2021.10.8)\n",
            "Requirement already satisfied: idna<4,>=2.5 in /usr/local/lib/python3.7/dist-packages (from requests>=2.26->yfinance) (2.10)\n",
            "Requirement already satisfied: urllib3<1.27,>=1.21.1 in /usr/local/lib/python3.7/dist-packages (from requests>=2.26->yfinance) (1.24.3)\n"
          ]
        }
      ]
    },
    {
      "cell_type": "code",
      "source": [
        "import yfinance as yf\n",
        "tsla = yf.Ticker(\"TSLA\")\n",
        "# Cambiamos la variable para acceder a las acciones de tesla\n",
        "print(tsla.info)\n",
        "# Imprimimos la información de la variable\n",
        "tsla_table = tsla.history(start=\"2021-01-01\", end=\"2022-01-01\")\n",
        "# añadimos la información historica de los valores de la acción, con parámetros\n",
        "# de inicio y fin en un tiempo determinado \n",
        "tsla_table\n"
      ],
      "metadata": {
        "colab": {
          "base_uri": "https://localhost:8080/",
          "height": 492
        },
        "id": "HVh0G59UkLAa",
        "outputId": "238e522a-15be-4004-ffab-19d3462dd139"
      },
      "execution_count": 4,
      "outputs": [
        {
          "output_type": "stream",
          "name": "stdout",
          "text": [
            "{'zip': '78725', 'sector': 'Consumer Cyclical', 'fullTimeEmployees': 99290, 'longBusinessSummary': 'Tesla, Inc. designs, develops, manufactures, leases, and sells electric vehicles, and energy generation and storage systems in the United States, China, and internationally. The company operates in two segments, Automotive, and Energy Generation and Storage. The Automotive segment offers electric vehicles, as well as sells automotive regulatory credits. It provides sedans and sport utility vehicles through direct and used vehicle sales, a network of Tesla Superchargers, and in-app upgrades; and purchase financing and leasing services. This segment is also involved in the provision of non-warranty after-sales vehicle services, sale of used vehicles, retail merchandise, and vehicle insurance, as well as sale of products to third party customers; services for electric vehicles through its company-owned service locations, and Tesla mobile service technicians; and vehicle limited warranties and extended service plans. The Energy Generation and Storage segment engages in the design, manufacture, installation, sale, and leasing of solar energy generation and energy storage products, and related services to residential, commercial, and industrial customers and utilities through its website, stores, and galleries, as well as through a network of channel partners. This segment also offers service and repairs to its energy product customers, including under warranty; and various financing options to its solar customers. The company was formerly known as Tesla Motors, Inc. and changed its name to Tesla, Inc. in February 2017. Tesla, Inc. was incorporated in 2003 and is headquartered in Austin, Texas.', 'city': 'Austin', 'phone': '(512) 516-8177', 'state': 'TX', 'country': 'United States', 'companyOfficers': [], 'website': 'https://www.tesla.com', 'maxAge': 1, 'address1': '13101 Tesla Road', 'industry': 'Auto Manufacturers', 'ebitdaMargins': 0.1734, 'profitMargins': 0.102539994, 'grossMargins': 0.25279, 'operatingCashflow': 11496999936, 'revenueGrowth': 0.649, 'operatingMargins': 0.121190004, 'ebitda': 9333000192, 'targetLowPrice': 250, 'recommendationKey': 'hold', 'grossProfits': 13606000000, 'freeCashflow': 4628125184, 'targetMedianPrice': 1035, 'currentPrice': 801.89, 'earningsGrowth': 7.538, 'currentRatio': 1.375, 'returnOnAssets': 0.07135, 'numberOfAnalystOpinions': 36, 'targetMeanPrice': 959.3, 'debtToEquity': 28.192, 'returnOnEquity': 0.20426, 'targetHighPrice': 1480, 'totalCash': 17706999808, 'totalDebt': 8903999488, 'totalRevenue': 53823000576, 'totalCashPerShare': 17.133, 'financialCurrency': 'USD', 'revenuePerShare': 54.587, 'quickRatio': 0.999, 'recommendationMean': 2.6, 'exchange': 'NMS', 'shortName': 'Tesla, Inc.', 'longName': 'Tesla, Inc.', 'exchangeTimezoneName': 'America/New_York', 'exchangeTimezoneShortName': 'EDT', 'isEsgPopulated': False, 'gmtOffSetMilliseconds': '-14400000', 'quoteType': 'EQUITY', 'symbol': 'TSLA', 'messageBoardId': 'finmb_27444752', 'market': 'us_market', 'annualHoldingsTurnover': None, 'enterpriseToRevenue': 15.26, 'beta3Year': None, 'enterpriseToEbitda': 88.005, '52WeekChange': 0.13220954, 'morningStarRiskRating': None, 'forwardEps': 12.73, 'revenueQuarterlyGrowth': None, 'sharesOutstanding': 1033510016, 'fundInceptionDate': None, 'annualReportExpenseRatio': None, 'totalAssets': None, 'bookValue': 29.225, 'sharesShort': 24557958, 'sharesPercentSharesOut': 0.0238, 'fundFamily': None, 'lastFiscalYearEnd': 1640908800, 'heldPercentInstitutions': 0.42694, 'netIncomeToCommon': 5523999744, 'trailingEps': 4.901, 'lastDividendValue': None, 'SandP52WeekChange': 0.053094983, 'priceToBook': 27.438494, 'heldPercentInsiders': 0.18375999, 'nextFiscalYearEnd': 1703980800, 'yield': None, 'mostRecentQuarter': 1640908800, 'shortRatio': 0.95, 'sharesShortPreviousMonthDate': 1643587200, 'floatShares': 843228525, 'beta': 2.04872, 'enterpriseValue': 821350432768, 'priceHint': 2, 'threeYearAverageReturn': None, 'lastSplitDate': 1598832000, 'lastSplitFactor': '5:1', 'legalType': None, 'lastDividendDate': None, 'morningStarOverallRating': None, 'earningsQuarterlyGrowth': 7.596, 'priceToSalesTrailing12Months': 15.980143, 'dateShortInterest': 1646006400, 'pegRatio': 3.5, 'ytdReturn': None, 'forwardPE': 62.99215, 'lastCapGain': None, 'shortPercentOfFloat': 0.029000001, 'sharesShortPriorMonth': 24057278, 'impliedSharesOutstanding': 0, 'category': None, 'fiveYearAverageReturn': None, 'previousClose': 766.37, 'regularMarketOpen': 775.27, 'twoHundredDayAverage': 846.0722, 'trailingAnnualDividendYield': 0, 'payoutRatio': 0, 'volume24Hr': None, 'regularMarketDayHigh': 805.55, 'navPrice': None, 'averageDailyVolume10Day': 22873100, 'regularMarketPreviousClose': 766.37, 'fiftyDayAverage': 925.3754, 'trailingAnnualDividendRate': 0, 'open': 775.27, 'toCurrency': None, 'averageVolume10days': 22873100, 'expireDate': None, 'algorithm': None, 'dividendRate': None, 'exDividendDate': None, 'circulatingSupply': None, 'startDate': None, 'regularMarketDayLow': 756.57, 'currency': 'USD', 'trailingPE': 163.61763, 'regularMarketVolume': 22280381, 'lastMarket': None, 'maxSupply': None, 'openInterest': None, 'marketCap': 860099248128, 'volumeAllCurrencies': None, 'strikePrice': None, 'averageVolume': 26473951, 'dayLow': 756.57, 'ask': 802, 'askSize': 1300, 'volume': 22280381, 'fiftyTwoWeekHigh': 1243.49, 'fromCurrency': None, 'fiveYearAvgDividendYield': None, 'fiftyTwoWeekLow': 546.98, 'bid': 801.81, 'tradeable': False, 'dividendYield': None, 'bidSize': 1100, 'dayHigh': 805.55, 'regularMarketPrice': 801.89, 'preMarketPrice': 775.24, 'logo_url': 'https://logo.clearbit.com/tesla.com', 'trailingPegRatio': 2.3927}\n"
          ]
        },
        {
          "output_type": "execute_result",
          "data": {
            "text/plain": [
              "                   Open         High          Low        Close    Volume  \\\n",
              "Date                                                                       \n",
              "2021-01-04   719.460022   744.489990   717.190002   729.770020  48638200   \n",
              "2021-01-05   723.659973   740.840027   719.200012   735.109985  32245200   \n",
              "2021-01-06   758.489990   774.000000   749.099976   755.979980  44700000   \n",
              "2021-01-07   777.630005   816.989990   775.200012   816.039978  51498900   \n",
              "2021-01-08   856.000000   884.489990   838.390015   880.020020  75055500   \n",
              "...                 ...          ...          ...          ...       ...   \n",
              "2021-12-27  1073.670044  1117.000000  1070.719971  1093.939941  23715300   \n",
              "2021-12-28  1109.489990  1119.000000  1078.420044  1088.469971  20108000   \n",
              "2021-12-29  1098.640015  1104.000000  1064.140015  1086.189941  18718000   \n",
              "2021-12-30  1061.329956  1095.550049  1053.150024  1070.339966  15680300   \n",
              "2021-12-31  1073.439941  1082.000000  1054.589966  1056.780029  13577900   \n",
              "\n",
              "            Dividends  Stock Splits  \n",
              "Date                                 \n",
              "2021-01-04          0             0  \n",
              "2021-01-05          0             0  \n",
              "2021-01-06          0             0  \n",
              "2021-01-07          0             0  \n",
              "2021-01-08          0             0  \n",
              "...               ...           ...  \n",
              "2021-12-27          0             0  \n",
              "2021-12-28          0             0  \n",
              "2021-12-29          0             0  \n",
              "2021-12-30          0             0  \n",
              "2021-12-31          0             0  \n",
              "\n",
              "[252 rows x 7 columns]"
            ],
            "text/html": [
              "\n",
              "  <div id=\"df-6e95776f-cd66-493c-97bc-0e61b861a700\">\n",
              "    <div class=\"colab-df-container\">\n",
              "      <div>\n",
              "<style scoped>\n",
              "    .dataframe tbody tr th:only-of-type {\n",
              "        vertical-align: middle;\n",
              "    }\n",
              "\n",
              "    .dataframe tbody tr th {\n",
              "        vertical-align: top;\n",
              "    }\n",
              "\n",
              "    .dataframe thead th {\n",
              "        text-align: right;\n",
              "    }\n",
              "</style>\n",
              "<table border=\"1\" class=\"dataframe\">\n",
              "  <thead>\n",
              "    <tr style=\"text-align: right;\">\n",
              "      <th></th>\n",
              "      <th>Open</th>\n",
              "      <th>High</th>\n",
              "      <th>Low</th>\n",
              "      <th>Close</th>\n",
              "      <th>Volume</th>\n",
              "      <th>Dividends</th>\n",
              "      <th>Stock Splits</th>\n",
              "    </tr>\n",
              "    <tr>\n",
              "      <th>Date</th>\n",
              "      <th></th>\n",
              "      <th></th>\n",
              "      <th></th>\n",
              "      <th></th>\n",
              "      <th></th>\n",
              "      <th></th>\n",
              "      <th></th>\n",
              "    </tr>\n",
              "  </thead>\n",
              "  <tbody>\n",
              "    <tr>\n",
              "      <th>2021-01-04</th>\n",
              "      <td>719.460022</td>\n",
              "      <td>744.489990</td>\n",
              "      <td>717.190002</td>\n",
              "      <td>729.770020</td>\n",
              "      <td>48638200</td>\n",
              "      <td>0</td>\n",
              "      <td>0</td>\n",
              "    </tr>\n",
              "    <tr>\n",
              "      <th>2021-01-05</th>\n",
              "      <td>723.659973</td>\n",
              "      <td>740.840027</td>\n",
              "      <td>719.200012</td>\n",
              "      <td>735.109985</td>\n",
              "      <td>32245200</td>\n",
              "      <td>0</td>\n",
              "      <td>0</td>\n",
              "    </tr>\n",
              "    <tr>\n",
              "      <th>2021-01-06</th>\n",
              "      <td>758.489990</td>\n",
              "      <td>774.000000</td>\n",
              "      <td>749.099976</td>\n",
              "      <td>755.979980</td>\n",
              "      <td>44700000</td>\n",
              "      <td>0</td>\n",
              "      <td>0</td>\n",
              "    </tr>\n",
              "    <tr>\n",
              "      <th>2021-01-07</th>\n",
              "      <td>777.630005</td>\n",
              "      <td>816.989990</td>\n",
              "      <td>775.200012</td>\n",
              "      <td>816.039978</td>\n",
              "      <td>51498900</td>\n",
              "      <td>0</td>\n",
              "      <td>0</td>\n",
              "    </tr>\n",
              "    <tr>\n",
              "      <th>2021-01-08</th>\n",
              "      <td>856.000000</td>\n",
              "      <td>884.489990</td>\n",
              "      <td>838.390015</td>\n",
              "      <td>880.020020</td>\n",
              "      <td>75055500</td>\n",
              "      <td>0</td>\n",
              "      <td>0</td>\n",
              "    </tr>\n",
              "    <tr>\n",
              "      <th>...</th>\n",
              "      <td>...</td>\n",
              "      <td>...</td>\n",
              "      <td>...</td>\n",
              "      <td>...</td>\n",
              "      <td>...</td>\n",
              "      <td>...</td>\n",
              "      <td>...</td>\n",
              "    </tr>\n",
              "    <tr>\n",
              "      <th>2021-12-27</th>\n",
              "      <td>1073.670044</td>\n",
              "      <td>1117.000000</td>\n",
              "      <td>1070.719971</td>\n",
              "      <td>1093.939941</td>\n",
              "      <td>23715300</td>\n",
              "      <td>0</td>\n",
              "      <td>0</td>\n",
              "    </tr>\n",
              "    <tr>\n",
              "      <th>2021-12-28</th>\n",
              "      <td>1109.489990</td>\n",
              "      <td>1119.000000</td>\n",
              "      <td>1078.420044</td>\n",
              "      <td>1088.469971</td>\n",
              "      <td>20108000</td>\n",
              "      <td>0</td>\n",
              "      <td>0</td>\n",
              "    </tr>\n",
              "    <tr>\n",
              "      <th>2021-12-29</th>\n",
              "      <td>1098.640015</td>\n",
              "      <td>1104.000000</td>\n",
              "      <td>1064.140015</td>\n",
              "      <td>1086.189941</td>\n",
              "      <td>18718000</td>\n",
              "      <td>0</td>\n",
              "      <td>0</td>\n",
              "    </tr>\n",
              "    <tr>\n",
              "      <th>2021-12-30</th>\n",
              "      <td>1061.329956</td>\n",
              "      <td>1095.550049</td>\n",
              "      <td>1053.150024</td>\n",
              "      <td>1070.339966</td>\n",
              "      <td>15680300</td>\n",
              "      <td>0</td>\n",
              "      <td>0</td>\n",
              "    </tr>\n",
              "    <tr>\n",
              "      <th>2021-12-31</th>\n",
              "      <td>1073.439941</td>\n",
              "      <td>1082.000000</td>\n",
              "      <td>1054.589966</td>\n",
              "      <td>1056.780029</td>\n",
              "      <td>13577900</td>\n",
              "      <td>0</td>\n",
              "      <td>0</td>\n",
              "    </tr>\n",
              "  </tbody>\n",
              "</table>\n",
              "<p>252 rows × 7 columns</p>\n",
              "</div>\n",
              "      <button class=\"colab-df-convert\" onclick=\"convertToInteractive('df-6e95776f-cd66-493c-97bc-0e61b861a700')\"\n",
              "              title=\"Convert this dataframe to an interactive table.\"\n",
              "              style=\"display:none;\">\n",
              "        \n",
              "  <svg xmlns=\"http://www.w3.org/2000/svg\" height=\"24px\"viewBox=\"0 0 24 24\"\n",
              "       width=\"24px\">\n",
              "    <path d=\"M0 0h24v24H0V0z\" fill=\"none\"/>\n",
              "    <path d=\"M18.56 5.44l.94 2.06.94-2.06 2.06-.94-2.06-.94-.94-2.06-.94 2.06-2.06.94zm-11 1L8.5 8.5l.94-2.06 2.06-.94-2.06-.94L8.5 2.5l-.94 2.06-2.06.94zm10 10l.94 2.06.94-2.06 2.06-.94-2.06-.94-.94-2.06-.94 2.06-2.06.94z\"/><path d=\"M17.41 7.96l-1.37-1.37c-.4-.4-.92-.59-1.43-.59-.52 0-1.04.2-1.43.59L10.3 9.45l-7.72 7.72c-.78.78-.78 2.05 0 2.83L4 21.41c.39.39.9.59 1.41.59.51 0 1.02-.2 1.41-.59l7.78-7.78 2.81-2.81c.8-.78.8-2.07 0-2.86zM5.41 20L4 18.59l7.72-7.72 1.47 1.35L5.41 20z\"/>\n",
              "  </svg>\n",
              "      </button>\n",
              "      \n",
              "  <style>\n",
              "    .colab-df-container {\n",
              "      display:flex;\n",
              "      flex-wrap:wrap;\n",
              "      gap: 12px;\n",
              "    }\n",
              "\n",
              "    .colab-df-convert {\n",
              "      background-color: #E8F0FE;\n",
              "      border: none;\n",
              "      border-radius: 50%;\n",
              "      cursor: pointer;\n",
              "      display: none;\n",
              "      fill: #1967D2;\n",
              "      height: 32px;\n",
              "      padding: 0 0 0 0;\n",
              "      width: 32px;\n",
              "    }\n",
              "\n",
              "    .colab-df-convert:hover {\n",
              "      background-color: #E2EBFA;\n",
              "      box-shadow: 0px 1px 2px rgba(60, 64, 67, 0.3), 0px 1px 3px 1px rgba(60, 64, 67, 0.15);\n",
              "      fill: #174EA6;\n",
              "    }\n",
              "\n",
              "    [theme=dark] .colab-df-convert {\n",
              "      background-color: #3B4455;\n",
              "      fill: #D2E3FC;\n",
              "    }\n",
              "\n",
              "    [theme=dark] .colab-df-convert:hover {\n",
              "      background-color: #434B5C;\n",
              "      box-shadow: 0px 1px 3px 1px rgba(0, 0, 0, 0.15);\n",
              "      filter: drop-shadow(0px 1px 2px rgba(0, 0, 0, 0.3));\n",
              "      fill: #FFFFFF;\n",
              "    }\n",
              "  </style>\n",
              "\n",
              "      <script>\n",
              "        const buttonEl =\n",
              "          document.querySelector('#df-6e95776f-cd66-493c-97bc-0e61b861a700 button.colab-df-convert');\n",
              "        buttonEl.style.display =\n",
              "          google.colab.kernel.accessAllowed ? 'block' : 'none';\n",
              "\n",
              "        async function convertToInteractive(key) {\n",
              "          const element = document.querySelector('#df-6e95776f-cd66-493c-97bc-0e61b861a700');\n",
              "          const dataTable =\n",
              "            await google.colab.kernel.invokeFunction('convertToInteractive',\n",
              "                                                     [key], {});\n",
              "          if (!dataTable) return;\n",
              "\n",
              "          const docLinkHtml = 'Like what you see? Visit the ' +\n",
              "            '<a target=\"_blank\" href=https://colab.research.google.com/notebooks/data_table.ipynb>data table notebook</a>'\n",
              "            + ' to learn more about interactive tables.';\n",
              "          element.innerHTML = '';\n",
              "          dataTable['output_type'] = 'display_data';\n",
              "          await google.colab.output.renderOutput(dataTable, element);\n",
              "          const docLink = document.createElement('div');\n",
              "          docLink.innerHTML = docLinkHtml;\n",
              "          element.appendChild(docLink);\n",
              "        }\n",
              "      </script>\n",
              "    </div>\n",
              "  </div>\n",
              "  "
            ]
          },
          "metadata": {},
          "execution_count": 4
        }
      ]
    },
    {
      "cell_type": "code",
      "source": [
        "# Creamos una serie con los valores Open de la acción en el año 2021\n",
        "tsla = tsla_table['Open']['2021']\n",
        "print(tsla)"
      ],
      "metadata": {
        "colab": {
          "base_uri": "https://localhost:8080/"
        },
        "id": "wG5RWaVNnhOC",
        "outputId": "6317caef-195a-4255-c2dc-ae6fd4d3fff0"
      },
      "execution_count": 5,
      "outputs": [
        {
          "output_type": "stream",
          "name": "stdout",
          "text": [
            "Date\n",
            "2021-01-04     719.460022\n",
            "2021-01-05     723.659973\n",
            "2021-01-06     758.489990\n",
            "2021-01-07     777.630005\n",
            "2021-01-08     856.000000\n",
            "                 ...     \n",
            "2021-12-27    1073.670044\n",
            "2021-12-28    1109.489990\n",
            "2021-12-29    1098.640015\n",
            "2021-12-30    1061.329956\n",
            "2021-12-31    1073.439941\n",
            "Name: Open, Length: 252, dtype: float64\n"
          ]
        }
      ]
    },
    {
      "cell_type": "code",
      "source": [
        "print(tsla['2021-1'])\n",
        "# Podemos acceder a los valores de la acción por medio de un fetch, en este caso\n",
        "# hemos usado el formato (yyyy-mm-dd)"
      ],
      "metadata": {
        "colab": {
          "base_uri": "https://localhost:8080/"
        },
        "id": "Qeyq2DqnpbgU",
        "outputId": "fd65c5d8-eae1-4d5d-a3cc-d6fb6a79f360"
      },
      "execution_count": 6,
      "outputs": [
        {
          "output_type": "stream",
          "name": "stdout",
          "text": [
            "Date\n",
            "2021-01-04    719.460022\n",
            "2021-01-05    723.659973\n",
            "2021-01-06    758.489990\n",
            "2021-01-07    777.630005\n",
            "2021-01-08    856.000000\n",
            "2021-01-11    849.400024\n",
            "2021-01-12    831.000000\n",
            "2021-01-13    852.760010\n",
            "2021-01-14    843.390015\n",
            "2021-01-15    852.000000\n",
            "2021-01-19    837.799988\n",
            "2021-01-20    858.739990\n",
            "2021-01-21    855.000000\n",
            "2021-01-22    834.309998\n",
            "2021-01-25    855.000000\n",
            "2021-01-26    891.380005\n",
            "2021-01-27    870.349976\n",
            "2021-01-28    820.000000\n",
            "2021-01-29    830.000000\n",
            "Name: Open, dtype: float64\n"
          ]
        }
      ]
    },
    {
      "cell_type": "code",
      "source": [
        "print(tsla['2021-1-7':'2021-1-22'])\n",
        "# Podemos acceder a la información por medio de la lógica sliced"
      ],
      "metadata": {
        "colab": {
          "base_uri": "https://localhost:8080/"
        },
        "id": "OfEMdQsfs9a6",
        "outputId": "a911a016-592f-4b3b-96e0-2e9fe13151ab"
      },
      "execution_count": 7,
      "outputs": [
        {
          "output_type": "stream",
          "name": "stdout",
          "text": [
            "Date\n",
            "2021-01-07    777.630005\n",
            "2021-01-08    856.000000\n",
            "2021-01-11    849.400024\n",
            "2021-01-12    831.000000\n",
            "2021-01-13    852.760010\n",
            "2021-01-14    843.390015\n",
            "2021-01-15    852.000000\n",
            "2021-01-19    837.799988\n",
            "2021-01-20    858.739990\n",
            "2021-01-21    855.000000\n",
            "2021-01-22    834.309998\n",
            "Name: Open, dtype: float64\n"
          ]
        }
      ]
    },
    {
      "cell_type": "code",
      "source": [
        "print(tsla.head(3))\n",
        "print(tsla.tail(2))\n",
        "# Con el método head() podemos redirigirnos rápidamente a los primeros elementos\n",
        "# por su parte con tail() accedemos a los últimos n elementos"
      ],
      "metadata": {
        "colab": {
          "base_uri": "https://localhost:8080/"
        },
        "id": "YKHRQ8titm08",
        "outputId": "ac4f8a29-67be-411c-e56a-77091e60a49f"
      },
      "execution_count": 8,
      "outputs": [
        {
          "output_type": "stream",
          "name": "stdout",
          "text": [
            "Date\n",
            "2021-01-04    719.460022\n",
            "2021-01-05    723.659973\n",
            "2021-01-06    758.489990\n",
            "Name: Open, dtype: float64\n",
            "Date\n",
            "2021-12-30    1061.329956\n",
            "2021-12-31    1073.439941\n",
            "Name: Open, dtype: float64\n"
          ]
        }
      ]
    },
    {
      "cell_type": "code",
      "source": [
        "by_month = tsla.resample('M').mean()\n",
        "# Con .resample('M').mean() recopilamos los datos por mes y hallamos su media\n",
        "print(by_month)\n"
      ],
      "metadata": {
        "colab": {
          "base_uri": "https://localhost:8080/"
        },
        "id": "z7wFUwCRt_WT",
        "outputId": "cf3d9aff-39be-476a-e15c-1b5923ece1fb"
      },
      "execution_count": 9,
      "outputs": [
        {
          "output_type": "stream",
          "name": "stdout",
          "text": [
            "Date\n",
            "2021-01-31     827.177368\n",
            "2021-02-28     797.572635\n",
            "2021-03-31     660.392172\n",
            "2021-04-30     709.282860\n",
            "2021-05-31     618.717993\n",
            "2021-06-30     626.256364\n",
            "2021-07-31     659.522856\n",
            "2021-08-31     704.433638\n",
            "2021-09-30     751.812860\n",
            "2021-10-31     869.860479\n",
            "2021-11-30    1117.766666\n",
            "2021-12-31    1024.433180\n",
            "Freq: M, Name: Open, dtype: float64\n"
          ]
        }
      ]
    },
    {
      "cell_type": "code",
      "source": [
        "max_month = tsla.resample('M').min()\n",
        "print(max_month)\n",
        "# Hemos cambiado .mean() por .min() que nos mostrará el valor mínimo por mes"
      ],
      "metadata": {
        "colab": {
          "base_uri": "https://localhost:8080/"
        },
        "id": "4SCI29O3wRa4",
        "outputId": "abfe71c2-012a-4973-80e1-61c795388e8b"
      },
      "execution_count": 10,
      "outputs": [
        {
          "output_type": "stream",
          "name": "stdout",
          "text": [
            "Date\n",
            "2021-01-31     719.460022\n",
            "2021-02-28     662.130005\n",
            "2021-03-31     600.549988\n",
            "2021-04-30     667.590027\n",
            "2021-05-31     552.549988\n",
            "2021-06-30     579.710022\n",
            "2021-07-31     628.369995\n",
            "2021-08-31     669.750000\n",
            "2021-09-30     732.250000\n",
            "2021-10-31     776.200012\n",
            "2021-11-30    1003.309998\n",
            "2021-12-31     910.700012\n",
            "Freq: M, Name: Open, dtype: float64\n"
          ]
        }
      ]
    },
    {
      "cell_type": "code",
      "source": [
        "seman_tsla = tsla.resample('8D').std()\n",
        "# Podemos cambiar la frecuencia para mostrar los datos, en este caso mostramos\n",
        "# la raiz de cada valor semanalmente\n",
        "print(seman_tsla)"
      ],
      "metadata": {
        "colab": {
          "base_uri": "https://localhost:8080/"
        },
        "id": "1AkYgqPiwUfn",
        "outputId": "b887fb2a-363e-4093-cc90-3618206fa8cf"
      },
      "execution_count": 11,
      "outputs": [
        {
          "output_type": "stream",
          "name": "stdout",
          "text": [
            "Date\n",
            "2021-01-04    59.827017\n",
            "2021-01-12     9.309800\n",
            "2021-01-20    18.971466\n",
            "2021-01-28    23.572128\n",
            "2021-02-05    25.999639\n",
            "2021-02-13    17.968971\n",
            "2021-02-21    36.722400\n",
            "2021-03-01    44.117200\n",
            "2021-03-09    36.841997\n",
            "2021-03-17    15.310552\n",
            "2021-03-25    31.602812\n",
            "2021-04-02    12.371404\n",
            "2021-04-10    31.917695\n",
            "2021-04-18    13.220715\n",
            "2021-04-26    24.357824\n",
            "2021-05-04    31.507372\n",
            "2021-05-12    19.476219\n",
            "2021-05-20    17.170989\n",
            "2021-05-28    20.819587\n",
            "2021-06-05    11.477523\n",
            "2021-06-13     8.191429\n",
            "2021-06-21    30.406428\n",
            "2021-06-29     2.484865\n",
            "2021-07-07    19.359907\n",
            "2021-07-15    11.084449\n",
            "2021-07-23    10.328671\n",
            "2021-07-31     7.230630\n",
            "2021-08-08     6.469074\n",
            "2021-08-16    12.615787\n",
            "2021-08-24    10.294524\n",
            "2021-09-01    12.143869\n",
            "2021-09-09     7.497477\n",
            "2021-09-17     9.629882\n",
            "2021-09-25     5.067753\n",
            "2021-10-03     8.594300\n",
            "2021-10-11    21.893545\n",
            "2021-10-19    64.738365\n",
            "2021-10-27    55.946823\n",
            "2021-11-04    84.240050\n",
            "2021-11-12    41.880722\n",
            "2021-11-20    44.041410\n",
            "2021-11-28    32.671181\n",
            "2021-12-06    27.330148\n",
            "2021-12-14    32.235723\n",
            "2021-12-22    62.130976\n",
            "2021-12-30     8.563053\n",
            "Freq: 8D, Name: Open, dtype: float64\n"
          ]
        }
      ]
    },
    {
      "cell_type": "code",
      "source": [
        "last_day = tsla.resample('M').agg(lambda x: x[-1])\n",
        "# Con este método obtenemos el valor de la acción en el último día de cada mes\n",
        "print(last_day)"
      ],
      "metadata": {
        "colab": {
          "base_uri": "https://localhost:8080/"
        },
        "id": "sxgd4NMZxwJ6",
        "outputId": "ae6bca00-4e1b-494c-dd3f-e587f2c47abc"
      },
      "execution_count": 12,
      "outputs": [
        {
          "output_type": "stream",
          "name": "stdout",
          "text": [
            "Date\n",
            "2021-01-31     830.000000\n",
            "2021-02-28     700.000000\n",
            "2021-03-31     646.619995\n",
            "2021-04-30     667.590027\n",
            "2021-05-31     628.500000\n",
            "2021-06-30     679.770020\n",
            "2021-07-31     671.760010\n",
            "2021-08-31     733.000000\n",
            "2021-09-30     781.000000\n",
            "2021-10-31    1081.859985\n",
            "2021-11-30    1144.369995\n",
            "2021-12-31    1073.439941\n",
            "Freq: M, Name: Open, dtype: float64\n"
          ]
        }
      ]
    },
    {
      "cell_type": "code",
      "source": [
        "monthly_return = tsla.resample('M').agg(lambda x: 100*(x[-1]/x[0] - 1))\n",
        "# También podemos hallar la tasa de retorno del mes con el primer y el último día\n",
        "print(monthly_return)"
      ],
      "metadata": {
        "colab": {
          "base_uri": "https://localhost:8080/"
        },
        "id": "AH3RlQ1Xy2yJ",
        "outputId": "1c90c0c0-58f3-489d-b042-314fdd2908f1"
      },
      "execution_count": 13,
      "outputs": [
        {
          "output_type": "stream",
          "name": "stdout",
          "text": [
            "Date\n",
            "2021-01-31    15.364297\n",
            "2021-02-28   -14.035538\n",
            "2021-03-31    -6.301893\n",
            "2021-04-30    -3.018721\n",
            "2021-05-31   -10.699061\n",
            "2021-06-30     8.278119\n",
            "2021-07-31    -1.777982\n",
            "2021-08-31     4.714286\n",
            "2021-09-30     6.391671\n",
            "2021-10-31    38.985091\n",
            "2021-11-30    -0.055022\n",
            "2021-12-31    -7.517878\n",
            "Freq: M, Name: Open, dtype: float64\n"
          ]
        }
      ]
    },
    {
      "cell_type": "code",
      "source": [
        "print(monthly_return.mean())\n",
        "print(monthly_return.max())\n",
        "print(monthly_return.min())\n",
        "# Al ser una serie podemos usar diferentes métodos, en este caso encontramos la media\n",
        "# el valor máximo y mínimo"
      ],
      "metadata": {
        "colab": {
          "base_uri": "https://localhost:8080/"
        },
        "id": "_Wjgx515z9lS",
        "outputId": "5e23a17f-8ac1-4385-ed08-50d29f98977f"
      },
      "execution_count": 14,
      "outputs": [
        {
          "output_type": "stream",
          "name": "stdout",
          "text": [
            "2.527280912326661\n",
            "38.985091395125316\n",
            "-14.035537844173973\n"
          ]
        }
      ]
    },
    {
      "cell_type": "code",
      "source": [
        "print(last_day.diff())\n",
        "print(last_day.pct_change())\n",
        "# Con .diff() podemos calcular la diferencia entre dos elementos consecutivos\n",
        "# mientras que con .pct_change() encontramos el porcentaje de cambio"
      ],
      "metadata": {
        "colab": {
          "base_uri": "https://localhost:8080/"
        },
        "id": "yz-OpBES1YgE",
        "outputId": "3eefa76b-dcf3-415e-f4f5-fd1f38fd5245"
      },
      "execution_count": 15,
      "outputs": [
        {
          "output_type": "stream",
          "name": "stdout",
          "text": [
            "Date\n",
            "2021-01-31           NaN\n",
            "2021-02-28   -130.000000\n",
            "2021-03-31    -53.380005\n",
            "2021-04-30     20.970032\n",
            "2021-05-31    -39.090027\n",
            "2021-06-30     51.270020\n",
            "2021-07-31     -8.010010\n",
            "2021-08-31     61.239990\n",
            "2021-09-30     48.000000\n",
            "2021-10-31    300.859985\n",
            "2021-11-30     62.510010\n",
            "2021-12-31    -70.930054\n",
            "Freq: M, Name: Open, dtype: float64\n",
            "Date\n",
            "2021-01-31         NaN\n",
            "2021-02-28   -0.156627\n",
            "2021-03-31   -0.076257\n",
            "2021-04-30    0.032430\n",
            "2021-05-31   -0.058554\n",
            "2021-06-30    0.081575\n",
            "2021-07-31   -0.011783\n",
            "2021-08-31    0.091163\n",
            "2021-09-30    0.065484\n",
            "2021-10-31    0.385224\n",
            "2021-11-30    0.057780\n",
            "2021-12-31   -0.061982\n",
            "Freq: M, Name: Open, dtype: float64\n"
          ]
        }
      ]
    },
    {
      "cell_type": "code",
      "source": [
        "# Podemos cambiar estos valores NaN por 0 con el método fillina(0)\n",
        "daily_return = last_day.pct_change()\n",
        "print(daily_return.fillna(0))\n",
        "# También podemos pasar al siguiente valor con el método backward fill = bfill\n",
        "daily_return = last_day.pct_change()\n",
        "print(daily_return.fillna(method = 'bfill'))\n",
        "# Tambien existe el método forward fill = ffill, sin embargo no lo podemos usar\n",
        "# porque el valor anterior es un NaN"
      ],
      "metadata": {
        "colab": {
          "base_uri": "https://localhost:8080/"
        },
        "id": "d7c9PMSk4BnJ",
        "outputId": "7dd9d511-13f7-4d57-cfb5-429bb03733c4"
      },
      "execution_count": 16,
      "outputs": [
        {
          "output_type": "stream",
          "name": "stdout",
          "text": [
            "Date\n",
            "2021-01-31    0.000000\n",
            "2021-02-28   -0.156627\n",
            "2021-03-31   -0.076257\n",
            "2021-04-30    0.032430\n",
            "2021-05-31   -0.058554\n",
            "2021-06-30    0.081575\n",
            "2021-07-31   -0.011783\n",
            "2021-08-31    0.091163\n",
            "2021-09-30    0.065484\n",
            "2021-10-31    0.385224\n",
            "2021-11-30    0.057780\n",
            "2021-12-31   -0.061982\n",
            "Freq: M, Name: Open, dtype: float64\n",
            "Date\n",
            "2021-01-31   -0.156627\n",
            "2021-02-28   -0.156627\n",
            "2021-03-31   -0.076257\n",
            "2021-04-30    0.032430\n",
            "2021-05-31   -0.058554\n",
            "2021-06-30    0.081575\n",
            "2021-07-31   -0.011783\n",
            "2021-08-31    0.091163\n",
            "2021-09-30    0.065484\n",
            "2021-10-31    0.385224\n",
            "2021-11-30    0.057780\n",
            "2021-12-31   -0.061982\n",
            "Freq: M, Name: Open, dtype: float64\n"
          ]
        }
      ]
    },
    {
      "cell_type": "code",
      "source": [
        "# Podemos remover la sección del dato por completo con .dropna()\n",
        "daily_return = last_day.pct_change()\n",
        "daily_return.dropna()"
      ],
      "metadata": {
        "colab": {
          "base_uri": "https://localhost:8080/"
        },
        "id": "FcX2kK1C4ca0",
        "outputId": "cbbee10c-fce8-4bbd-dbe4-489a1470badc"
      },
      "execution_count": 17,
      "outputs": [
        {
          "output_type": "execute_result",
          "data": {
            "text/plain": [
              "Date\n",
              "2021-02-28   -0.156627\n",
              "2021-03-31   -0.076257\n",
              "2021-04-30    0.032430\n",
              "2021-05-31   -0.058554\n",
              "2021-06-30    0.081575\n",
              "2021-07-31   -0.011783\n",
              "2021-08-31    0.091163\n",
              "2021-09-30    0.065484\n",
              "2021-10-31    0.385224\n",
              "2021-11-30    0.057780\n",
              "2021-12-31   -0.061982\n",
              "Freq: M, Name: Open, dtype: float64"
            ]
          },
          "metadata": {},
          "execution_count": 17
        }
      ]
    },
    {
      "cell_type": "code",
      "source": [
        "import pandas as pd\n",
        "\n",
        "dict = {'TESLA': [43.5, 22.09, 21.73, 65.18, 786.77],'MICROSOFT':[32.7, 33.71, 54.69, 622.59, 332.99],\n",
        "        'IBM':[155.58, 153.67, 152.36, 152.94, 153.49]}\n",
        "data_index = pd.date_range('2017-07-03',periods = 5, freq = 'D')\n",
        "df = pd.DataFrame(dict, index = data_index)\n",
        "print(df)\n",
        "\n",
        "# Hemos creado un data frame pasandole por parametro un diccionario, además hemos\n",
        "# creado un index con cinco periodos con frecuencia diaria"
      ],
      "metadata": {
        "colab": {
          "base_uri": "https://localhost:8080/"
        },
        "id": "3Ae0isfQ7k09",
        "outputId": "6f9a4bf1-48db-46a0-8540-5e17b2247c99"
      },
      "execution_count": 18,
      "outputs": [
        {
          "output_type": "stream",
          "name": "stdout",
          "text": [
            "             TESLA  MICROSOFT     IBM\n",
            "2017-07-03   43.50      32.70  155.58\n",
            "2017-07-04   22.09      33.71  153.67\n",
            "2017-07-05   21.73      54.69  152.36\n",
            "2017-07-06   65.18     622.59  152.94\n",
            "2017-07-07  786.77     332.99  153.49\n"
          ]
        }
      ]
    },
    {
      "cell_type": "code",
      "source": [
        "df = tsla_table\n",
        "# Añadimos a la variable df la tabla creada anteriormente\n",
        "print(df.Close.tail(5))\n",
        "# Hallamos los últimos cinco valores de cierre\n",
        "print(df['High'].tail(5))\n",
        "# Hacemos fetch sobre los datos de la tabla high y con .tail(5) apuntamos a los\n",
        "# últimos cinco"
      ],
      "metadata": {
        "colab": {
          "base_uri": "https://localhost:8080/"
        },
        "id": "WoSwDfDM8JaI",
        "outputId": "3e6d8591-1050-4630-e61d-3ba82bbeab36"
      },
      "execution_count": 19,
      "outputs": [
        {
          "output_type": "stream",
          "name": "stdout",
          "text": [
            "Date\n",
            "2021-12-27    1093.939941\n",
            "2021-12-28    1088.469971\n",
            "2021-12-29    1086.189941\n",
            "2021-12-30    1070.339966\n",
            "2021-12-31    1056.780029\n",
            "Name: Close, dtype: float64\n",
            "Date\n",
            "2021-12-27    1117.000000\n",
            "2021-12-28    1119.000000\n",
            "2021-12-29    1104.000000\n",
            "2021-12-30    1095.550049\n",
            "2021-12-31    1082.000000\n",
            "Name: High, dtype: float64\n"
          ]
        }
      ]
    },
    {
      "cell_type": "code",
      "source": [
        "tsla_2021 = df['2021']\n",
        "tsla_month = tsla_2021.resample('M').agg(lambda x: x[-1])\n",
        "print(tsla_month)\n",
        "# Hemos creado un dataframe que con lamba toma el último día de nuestra frecuencia\n",
        "# que en este caso es mensual"
      ],
      "metadata": {
        "colab": {
          "base_uri": "https://localhost:8080/"
        },
        "id": "epo4tWl68JYh",
        "outputId": "80eb585a-c333-4ecf-db6d-356aa18f4ca8"
      },
      "execution_count": 20,
      "outputs": [
        {
          "output_type": "stream",
          "name": "stdout",
          "text": [
            "                   Open         High          Low        Close    Volume  \\\n",
            "Date                                                                       \n",
            "2021-01-31   830.000000   842.409973   780.099976   793.530029  34990800   \n",
            "2021-02-28   700.000000   706.700012   659.510010   675.500000  41089200   \n",
            "2021-03-31   646.619995   672.000000   641.109985   667.929993  33337300   \n",
            "2021-04-30   667.590027   715.469971   666.140015   709.440002  40758700   \n",
            "2021-05-31   628.500000   635.590027   622.380005   625.219971  22737000   \n",
            "2021-06-30   679.770020   692.809998   678.140015   679.700012  18924900   \n",
            "2021-07-31   671.760010   697.530029   669.000000   687.200012  29600500   \n",
            "2021-08-31   733.000000   740.390015   726.440002   735.719971  20855400   \n",
            "2021-09-30   781.000000   789.130005   775.000000   775.479980  17956000   \n",
            "2021-10-31  1081.859985  1115.209961  1073.209961  1114.000000  29918400   \n",
            "2021-11-30  1144.369995  1168.000000  1118.000000  1144.760010  27092000   \n",
            "2021-12-31  1073.439941  1082.000000  1054.589966  1056.780029  13577900   \n",
            "\n",
            "            Dividends  Stock Splits  \n",
            "Date                                 \n",
            "2021-01-31          0             0  \n",
            "2021-02-28          0             0  \n",
            "2021-03-31          0             0  \n",
            "2021-04-30          0             0  \n",
            "2021-05-31          0             0  \n",
            "2021-06-30          0             0  \n",
            "2021-07-31          0             0  \n",
            "2021-08-31          0             0  \n",
            "2021-09-30          0             0  \n",
            "2021-10-31          0             0  \n",
            "2021-11-30          0             0  \n",
            "2021-12-31          0             0  \n"
          ]
        },
        {
          "output_type": "stream",
          "name": "stderr",
          "text": [
            "/usr/local/lib/python3.7/dist-packages/ipykernel_launcher.py:1: FutureWarning: Indexing a DataFrame with a datetimelike index using a single string to slice the rows, like `frame[string]`, is deprecated and will be removed in a future version. Use `frame.loc[string]` instead.\n",
            "  \"\"\"Entry point for launching an IPython kernel.\n"
          ]
        }
      ]
    },
    {
      "cell_type": "code",
      "source": [
        "tsla_bar = tsla_month[['Open', 'High', 'Low', 'Close']]\n",
        "print(tsla_bar)\n",
        "# Hemos seleccionado las columnas del dataframe que queremos usar, especificando\n",
        "# sus nombres\n",
        "print(tsla_month.loc['2021-03':'2021-06',['Open', 'High', 'Low', 'Close']])\n",
        "# Con .loc podemos configurar tanto filas como columnas"
      ],
      "metadata": {
        "colab": {
          "base_uri": "https://localhost:8080/"
        },
        "id": "nu9j-m908xg6",
        "outputId": "70991ea7-8623-4170-cf51-44baa8db0642"
      },
      "execution_count": 21,
      "outputs": [
        {
          "output_type": "stream",
          "name": "stdout",
          "text": [
            "                   Open         High          Low        Close\n",
            "Date                                                          \n",
            "2021-01-31   830.000000   842.409973   780.099976   793.530029\n",
            "2021-02-28   700.000000   706.700012   659.510010   675.500000\n",
            "2021-03-31   646.619995   672.000000   641.109985   667.929993\n",
            "2021-04-30   667.590027   715.469971   666.140015   709.440002\n",
            "2021-05-31   628.500000   635.590027   622.380005   625.219971\n",
            "2021-06-30   679.770020   692.809998   678.140015   679.700012\n",
            "2021-07-31   671.760010   697.530029   669.000000   687.200012\n",
            "2021-08-31   733.000000   740.390015   726.440002   735.719971\n",
            "2021-09-30   781.000000   789.130005   775.000000   775.479980\n",
            "2021-10-31  1081.859985  1115.209961  1073.209961  1114.000000\n",
            "2021-11-30  1144.369995  1168.000000  1118.000000  1144.760010\n",
            "2021-12-31  1073.439941  1082.000000  1054.589966  1056.780029\n",
            "                  Open        High         Low       Close\n",
            "Date                                                      \n",
            "2021-03-31  646.619995  672.000000  641.109985  667.929993\n",
            "2021-04-30  667.590027  715.469971  666.140015  709.440002\n",
            "2021-05-31  628.500000  635.590027  622.380005  625.219971\n",
            "2021-06-30  679.770020  692.809998  678.140015  679.700012\n"
          ]
        }
      ]
    },
    {
      "cell_type": "code",
      "source": [
        "import numpy as np\n",
        "\n",
        "subs = tsla_bar[tsla_bar.Close > np.mean(tsla_bar.Close)]\n",
        "print(subs)\n",
        "# Hemos creado un subconjunto único con condiciones lógicas"
      ],
      "metadata": {
        "colab": {
          "base_uri": "https://localhost:8080/"
        },
        "id": "7KvXqfv9C8Pv",
        "outputId": "4a8a4f1b-d2e0-4d9a-bb2e-df0731b5cc77"
      },
      "execution_count": 22,
      "outputs": [
        {
          "output_type": "stream",
          "name": "stdout",
          "text": [
            "                   Open         High          Low        Close\n",
            "Date                                                          \n",
            "2021-10-31  1081.859985  1115.209961  1073.209961  1114.000000\n",
            "2021-11-30  1144.369995  1168.000000  1118.000000  1144.760010\n",
            "2021-12-31  1073.439941  1082.000000  1054.589966  1056.780029\n"
          ]
        }
      ]
    },
    {
      "cell_type": "code",
      "source": [
        "tsla_bar['Tasa de retorno'] = tsla_bar.Close.pct_change()\n",
        "print(tsla_bar)\n",
        "# Podemos agregar valores a nuestro bar, en este caso hemos agregado la tasa de\n",
        "# retorno de la acción usando el método pct_change()"
      ],
      "metadata": {
        "colab": {
          "base_uri": "https://localhost:8080/"
        },
        "id": "ZsnCZyWBEPdd",
        "outputId": "40823a16-92f3-4d20-bb78-d0a72e95fa5e"
      },
      "execution_count": 23,
      "outputs": [
        {
          "output_type": "stream",
          "name": "stdout",
          "text": [
            "                   Open         High          Low        Close  \\\n",
            "Date                                                             \n",
            "2021-01-31   830.000000   842.409973   780.099976   793.530029   \n",
            "2021-02-28   700.000000   706.700012   659.510010   675.500000   \n",
            "2021-03-31   646.619995   672.000000   641.109985   667.929993   \n",
            "2021-04-30   667.590027   715.469971   666.140015   709.440002   \n",
            "2021-05-31   628.500000   635.590027   622.380005   625.219971   \n",
            "2021-06-30   679.770020   692.809998   678.140015   679.700012   \n",
            "2021-07-31   671.760010   697.530029   669.000000   687.200012   \n",
            "2021-08-31   733.000000   740.390015   726.440002   735.719971   \n",
            "2021-09-30   781.000000   789.130005   775.000000   775.479980   \n",
            "2021-10-31  1081.859985  1115.209961  1073.209961  1114.000000   \n",
            "2021-11-30  1144.369995  1168.000000  1118.000000  1144.760010   \n",
            "2021-12-31  1073.439941  1082.000000  1054.589966  1056.780029   \n",
            "\n",
            "            Tasa de retorno  \n",
            "Date                         \n",
            "2021-01-31              NaN  \n",
            "2021-02-28        -0.148740  \n",
            "2021-03-31        -0.011207  \n",
            "2021-04-30         0.062147  \n",
            "2021-05-31        -0.118713  \n",
            "2021-06-30         0.087137  \n",
            "2021-07-31         0.011034  \n",
            "2021-08-31         0.070605  \n",
            "2021-09-30         0.054042  \n",
            "2021-10-31         0.436530  \n",
            "2021-11-30         0.027612  \n",
            "2021-12-31        -0.076855  \n"
          ]
        },
        {
          "output_type": "stream",
          "name": "stderr",
          "text": [
            "/usr/local/lib/python3.7/dist-packages/ipykernel_launcher.py:1: SettingWithCopyWarning: \n",
            "A value is trying to be set on a copy of a slice from a DataFrame.\n",
            "Try using .loc[row_indexer,col_indexer] = value instead\n",
            "\n",
            "See the caveats in the documentation: https://pandas.pydata.org/pandas-docs/stable/user_guide/indexing.html#returning-a-view-versus-a-copy\n",
            "  \"\"\"Entry point for launching an IPython kernel.\n"
          ]
        }
      ]
    },
    {
      "cell_type": "code",
      "source": [
        "drop = tsla_bar.dropna() \n",
        "# Elimina la fila que contenga un NaN en retorno\n",
        "print(drop)\n",
        "print('\\n--------------------------------------------------\\n')\n",
        "fill = tsla_bar.fillna(0) \n",
        "# En este caso lo reemplaza por 0\n",
        "print(fill)"
      ],
      "metadata": {
        "colab": {
          "base_uri": "https://localhost:8080/"
        },
        "id": "ckGXv79_FsOc",
        "outputId": "51ed2313-384e-4fbf-f683-fbfc99b0c844"
      },
      "execution_count": 25,
      "outputs": [
        {
          "output_type": "stream",
          "name": "stdout",
          "text": [
            "                   Open         High          Low        Close  \\\n",
            "Date                                                             \n",
            "2021-02-28   700.000000   706.700012   659.510010   675.500000   \n",
            "2021-03-31   646.619995   672.000000   641.109985   667.929993   \n",
            "2021-04-30   667.590027   715.469971   666.140015   709.440002   \n",
            "2021-05-31   628.500000   635.590027   622.380005   625.219971   \n",
            "2021-06-30   679.770020   692.809998   678.140015   679.700012   \n",
            "2021-07-31   671.760010   697.530029   669.000000   687.200012   \n",
            "2021-08-31   733.000000   740.390015   726.440002   735.719971   \n",
            "2021-09-30   781.000000   789.130005   775.000000   775.479980   \n",
            "2021-10-31  1081.859985  1115.209961  1073.209961  1114.000000   \n",
            "2021-11-30  1144.369995  1168.000000  1118.000000  1144.760010   \n",
            "2021-12-31  1073.439941  1082.000000  1054.589966  1056.780029   \n",
            "\n",
            "            Tasa de retorno  \n",
            "Date                         \n",
            "2021-02-28        -0.148740  \n",
            "2021-03-31        -0.011207  \n",
            "2021-04-30         0.062147  \n",
            "2021-05-31        -0.118713  \n",
            "2021-06-30         0.087137  \n",
            "2021-07-31         0.011034  \n",
            "2021-08-31         0.070605  \n",
            "2021-09-30         0.054042  \n",
            "2021-10-31         0.436530  \n",
            "2021-11-30         0.027612  \n",
            "2021-12-31        -0.076855  \n",
            "\n",
            "--------------------------------------------------\n",
            "\n",
            "                   Open         High          Low        Close  \\\n",
            "Date                                                             \n",
            "2021-01-31   830.000000   842.409973   780.099976   793.530029   \n",
            "2021-02-28   700.000000   706.700012   659.510010   675.500000   \n",
            "2021-03-31   646.619995   672.000000   641.109985   667.929993   \n",
            "2021-04-30   667.590027   715.469971   666.140015   709.440002   \n",
            "2021-05-31   628.500000   635.590027   622.380005   625.219971   \n",
            "2021-06-30   679.770020   692.809998   678.140015   679.700012   \n",
            "2021-07-31   671.760010   697.530029   669.000000   687.200012   \n",
            "2021-08-31   733.000000   740.390015   726.440002   735.719971   \n",
            "2021-09-30   781.000000   789.130005   775.000000   775.479980   \n",
            "2021-10-31  1081.859985  1115.209961  1073.209961  1114.000000   \n",
            "2021-11-30  1144.369995  1168.000000  1118.000000  1144.760010   \n",
            "2021-12-31  1073.439941  1082.000000  1054.589966  1056.780029   \n",
            "\n",
            "            Tasa de retorno  \n",
            "Date                         \n",
            "2021-01-31         0.000000  \n",
            "2021-02-28        -0.148740  \n",
            "2021-03-31        -0.011207  \n",
            "2021-04-30         0.062147  \n",
            "2021-05-31        -0.118713  \n",
            "2021-06-30         0.087137  \n",
            "2021-07-31         0.011034  \n",
            "2021-08-31         0.070605  \n",
            "2021-09-30         0.054042  \n",
            "2021-10-31         0.436530  \n",
            "2021-11-30         0.027612  \n",
            "2021-12-31        -0.076855  \n"
          ]
        }
      ]
    },
    {
      "cell_type": "code",
      "source": [
        "s_val1 = pd.Series([143.5, 144.09, 142.73, 144.18, 143.77], name = 'AAPL')\n",
        "s_val2 = pd.Series([898.7, 911.71, 906.69, 918.59, 926.99], name = 'GOOG')\n",
        "data_frame = pd.concat([s_val1,s_val2], axis = 1)\n",
        "# Usamos el método pd.concat el cual tabula la informacion, junto al argumento\n",
        "# axis = 1 el cual representa que seran filas\n",
        "print(data_frame)"
      ],
      "metadata": {
        "colab": {
          "base_uri": "https://localhost:8080/"
        },
        "id": "5fBSt0noFsNG",
        "outputId": "69a71bd9-0149-448f-ff09-35c795635271"
      },
      "execution_count": 27,
      "outputs": [
        {
          "output_type": "stream",
          "name": "stdout",
          "text": [
            "     AAPL    GOOG\n",
            "0  143.50  898.70\n",
            "1  144.09  911.71\n",
            "2  142.73  906.69\n",
            "3  144.18  918.59\n",
            "4  143.77  926.99\n"
          ]
        }
      ]
    },
    {
      "cell_type": "code",
      "source": [
        "log_price = np.log(tsla_bar.Close)\n",
        "log_price.name = 'log_price'\n",
        "print(log_price)\n",
        "print('\\n---------------------- separate line--------------------\\n')\n",
        "concat = pd.concat([tsla_bar, log_price], axis = 1)\n",
        "print(concat)"
      ],
      "metadata": {
        "colab": {
          "base_uri": "https://localhost:8080/"
        },
        "id": "XZPMaQCHZjqR",
        "outputId": "6f81e5cc-b72d-48c1-9a5f-26782ebc5fd2"
      },
      "execution_count": 28,
      "outputs": [
        {
          "output_type": "stream",
          "name": "stdout",
          "text": [
            "Date\n",
            "2021-01-31    6.676491\n",
            "2021-02-28    6.515453\n",
            "2021-03-31    6.504183\n",
            "2021-04-30    6.564476\n",
            "2021-05-31    6.438104\n",
            "2021-06-30    6.521652\n",
            "2021-07-31    6.532625\n",
            "2021-08-31    6.600850\n",
            "2021-09-30    6.653482\n",
            "2021-10-31    7.015712\n",
            "2021-11-30    7.042950\n",
            "2021-12-31    6.962982\n",
            "Freq: M, Name: log_price, dtype: float64\n",
            "\n",
            "---------------------- separate line--------------------\n",
            "\n",
            "                   Open         High          Low        Close  \\\n",
            "Date                                                             \n",
            "2021-01-31   830.000000   842.409973   780.099976   793.530029   \n",
            "2021-02-28   700.000000   706.700012   659.510010   675.500000   \n",
            "2021-03-31   646.619995   672.000000   641.109985   667.929993   \n",
            "2021-04-30   667.590027   715.469971   666.140015   709.440002   \n",
            "2021-05-31   628.500000   635.590027   622.380005   625.219971   \n",
            "2021-06-30   679.770020   692.809998   678.140015   679.700012   \n",
            "2021-07-31   671.760010   697.530029   669.000000   687.200012   \n",
            "2021-08-31   733.000000   740.390015   726.440002   735.719971   \n",
            "2021-09-30   781.000000   789.130005   775.000000   775.479980   \n",
            "2021-10-31  1081.859985  1115.209961  1073.209961  1114.000000   \n",
            "2021-11-30  1144.369995  1168.000000  1118.000000  1144.760010   \n",
            "2021-12-31  1073.439941  1082.000000  1054.589966  1056.780029   \n",
            "\n",
            "            Tasa de retorno  log_price  \n",
            "Date                                    \n",
            "2021-01-31              NaN   6.676491  \n",
            "2021-02-28        -0.148740   6.515453  \n",
            "2021-03-31        -0.011207   6.504183  \n",
            "2021-04-30         0.062147   6.564476  \n",
            "2021-05-31        -0.118713   6.438104  \n",
            "2021-06-30         0.087137   6.521652  \n",
            "2021-07-31         0.011034   6.532625  \n",
            "2021-08-31         0.070605   6.600850  \n",
            "2021-09-30         0.054042   6.653482  \n",
            "2021-10-31         0.436530   7.015712  \n",
            "2021-11-30         0.027612   7.042950  \n",
            "2021-12-31        -0.076855   6.962982  \n"
          ]
        }
      ]
    },
    {
      "cell_type": "code",
      "source": [
        "df_volume = tsla_table.loc['2021-01':'2021-06',['Volume', 'Stock Splits']].resample('M').agg(lambda x: x[-1])\n",
        "print(df_volume)\n",
        "print('\\n---------------------- separate line--------------------\\n')\n",
        "df_2021 = tsla_table.loc['2021-07':'2021-10',['Open', 'High', 'Low', 'Close']].resample('M').agg(lambda x: x[-1])\n",
        "print(df_2021)\n",
        "\n",
        "# Con .loc podemos determinar el periodo de tiempo por medio del formato ['yyyy-mm-dd'] \n",
        "# añadimos nombre a las comlumnas y agregamos la frecuencia correspondiente, en este\n",
        "# caso (M), con la funcion lambda escogemos el ultimo dia de cada mes"
      ],
      "metadata": {
        "colab": {
          "base_uri": "https://localhost:8080/"
        },
        "id": "ag8FECjKZjf9",
        "outputId": "7fadc174-0d34-4862-d138-5cfc7647bed3"
      },
      "execution_count": 31,
      "outputs": [
        {
          "output_type": "stream",
          "name": "stdout",
          "text": [
            "              Volume  Stock Splits\n",
            "Date                              \n",
            "2021-01-31  34990800             0\n",
            "2021-02-28  41089200             0\n",
            "2021-03-31  33337300             0\n",
            "2021-04-30  40758700             0\n",
            "2021-05-31  22737000             0\n",
            "2021-06-30  18924900             0\n",
            "\n",
            "---------------------- separate line--------------------\n",
            "\n",
            "                   Open         High          Low        Close\n",
            "Date                                                          \n",
            "2021-07-31   671.760010   697.530029   669.000000   687.200012\n",
            "2021-08-31   733.000000   740.390015   726.440002   735.719971\n",
            "2021-09-30   781.000000   789.130005   775.000000   775.479980\n",
            "2021-10-31  1081.859985  1115.209961  1073.209961  1114.000000\n"
          ]
        }
      ]
    },
    {
      "cell_type": "code",
      "source": [
        "ts_concat = pd.concat([tsla_bar, df_volume], axis = 1)\n",
        "print(ts_concat)\n",
        "\n",
        "# Con el metodo .concat tabulamos la informacion seleccionada, además de usar el\n",
        "# argumento axis = 1 indicando que tabule en fila"
      ],
      "metadata": {
        "colab": {
          "base_uri": "https://localhost:8080/"
        },
        "id": "tGvFpM94arRC",
        "outputId": "f6917978-5a7d-4f14-c3d1-f9aedad8ffb9"
      },
      "execution_count": 32,
      "outputs": [
        {
          "output_type": "stream",
          "name": "stdout",
          "text": [
            "                   Open         High          Low        Close  \\\n",
            "Date                                                             \n",
            "2021-01-31   830.000000   842.409973   780.099976   793.530029   \n",
            "2021-02-28   700.000000   706.700012   659.510010   675.500000   \n",
            "2021-03-31   646.619995   672.000000   641.109985   667.929993   \n",
            "2021-04-30   667.590027   715.469971   666.140015   709.440002   \n",
            "2021-05-31   628.500000   635.590027   622.380005   625.219971   \n",
            "2021-06-30   679.770020   692.809998   678.140015   679.700012   \n",
            "2021-07-31   671.760010   697.530029   669.000000   687.200012   \n",
            "2021-08-31   733.000000   740.390015   726.440002   735.719971   \n",
            "2021-09-30   781.000000   789.130005   775.000000   775.479980   \n",
            "2021-10-31  1081.859985  1115.209961  1073.209961  1114.000000   \n",
            "2021-11-30  1144.369995  1168.000000  1118.000000  1144.760010   \n",
            "2021-12-31  1073.439941  1082.000000  1054.589966  1056.780029   \n",
            "\n",
            "            Tasa de retorno      Volume  Stock Splits  \n",
            "Date                                                   \n",
            "2021-01-31              NaN  34990800.0           0.0  \n",
            "2021-02-28        -0.148740  41089200.0           0.0  \n",
            "2021-03-31        -0.011207  33337300.0           0.0  \n",
            "2021-04-30         0.062147  40758700.0           0.0  \n",
            "2021-05-31        -0.118713  22737000.0           0.0  \n",
            "2021-06-30         0.087137  18924900.0           0.0  \n",
            "2021-07-31         0.011034         NaN           NaN  \n",
            "2021-08-31         0.070605         NaN           NaN  \n",
            "2021-09-30         0.054042         NaN           NaN  \n",
            "2021-10-31         0.436530         NaN           NaN  \n",
            "2021-11-30         0.027612         NaN           NaN  \n",
            "2021-12-31        -0.076855         NaN           NaN  \n"
          ]
        }
      ]
    },
    {
      "cell_type": "code",
      "source": [
        "ts_concat = pd.concat([tsla_bar,df_volume],axis = 1, join = 'inner')\n",
        "print(ts_concat)\n",
        "# Volvemos a usar el metodo para concatenar la informacion producto de el inner join\n",
        "# que devuelve las filas cuando hay al menos una coincidencia en las tablas\n",
        "# que hemos pasado como parámetro, en este caso (rui_bar y df_volume)"
      ],
      "metadata": {
        "id": "mWOMzjzGbDAj"
      },
      "execution_count": null,
      "outputs": []
    },
    {
      "cell_type": "code",
      "source": [
        "append = tsla_bar.append(df_2021)\n",
        "print(append)\n",
        "# Con .append agregamos todos los registros de valores de las acciones Tesla en 2021"
      ],
      "metadata": {
        "colab": {
          "base_uri": "https://localhost:8080/"
        },
        "id": "3DcKzbRvbgTW",
        "outputId": "72c95b3f-e2f0-4b8f-dacf-3022e0effed4"
      },
      "execution_count": 33,
      "outputs": [
        {
          "output_type": "stream",
          "name": "stdout",
          "text": [
            "                   Open         High          Low        Close  \\\n",
            "Date                                                             \n",
            "2021-01-31   830.000000   842.409973   780.099976   793.530029   \n",
            "2021-02-28   700.000000   706.700012   659.510010   675.500000   \n",
            "2021-03-31   646.619995   672.000000   641.109985   667.929993   \n",
            "2021-04-30   667.590027   715.469971   666.140015   709.440002   \n",
            "2021-05-31   628.500000   635.590027   622.380005   625.219971   \n",
            "2021-06-30   679.770020   692.809998   678.140015   679.700012   \n",
            "2021-07-31   671.760010   697.530029   669.000000   687.200012   \n",
            "2021-08-31   733.000000   740.390015   726.440002   735.719971   \n",
            "2021-09-30   781.000000   789.130005   775.000000   775.479980   \n",
            "2021-10-31  1081.859985  1115.209961  1073.209961  1114.000000   \n",
            "2021-11-30  1144.369995  1168.000000  1118.000000  1144.760010   \n",
            "2021-12-31  1073.439941  1082.000000  1054.589966  1056.780029   \n",
            "2021-07-31   671.760010   697.530029   669.000000   687.200012   \n",
            "2021-08-31   733.000000   740.390015   726.440002   735.719971   \n",
            "2021-09-30   781.000000   789.130005   775.000000   775.479980   \n",
            "2021-10-31  1081.859985  1115.209961  1073.209961  1114.000000   \n",
            "\n",
            "            Tasa de retorno  \n",
            "Date                         \n",
            "2021-01-31              NaN  \n",
            "2021-02-28        -0.148740  \n",
            "2021-03-31        -0.011207  \n",
            "2021-04-30         0.062147  \n",
            "2021-05-31        -0.118713  \n",
            "2021-06-30         0.087137  \n",
            "2021-07-31         0.011034  \n",
            "2021-08-31         0.070605  \n",
            "2021-09-30         0.054042  \n",
            "2021-10-31         0.436530  \n",
            "2021-11-30         0.027612  \n",
            "2021-12-31        -0.076855  \n",
            "2021-07-31              NaN  \n",
            "2021-08-31              NaN  \n",
            "2021-09-30              NaN  \n",
            "2021-10-31              NaN  \n"
          ]
        }
      ]
    },
    {
      "cell_type": "code",
      "source": [
        "ts_concat = pd.concat([tsla_bar, df_2021], axis = 0)\n",
        "# Con .concat concatenamos los valores presentes en tsla_bar, en este caso usamos\n",
        "# axis = 0, el cual organiza de la fecha mas reciente a la mas antigua en las filas\n",
        "print(ts_concat)"
      ],
      "metadata": {
        "colab": {
          "base_uri": "https://localhost:8080/"
        },
        "id": "DAV55eTebtyk",
        "outputId": "85e5a05a-d4e4-4ac7-da69-ca4414d0dc71"
      },
      "execution_count": 34,
      "outputs": [
        {
          "output_type": "stream",
          "name": "stdout",
          "text": [
            "                   Open         High          Low        Close  \\\n",
            "Date                                                             \n",
            "2021-01-31   830.000000   842.409973   780.099976   793.530029   \n",
            "2021-02-28   700.000000   706.700012   659.510010   675.500000   \n",
            "2021-03-31   646.619995   672.000000   641.109985   667.929993   \n",
            "2021-04-30   667.590027   715.469971   666.140015   709.440002   \n",
            "2021-05-31   628.500000   635.590027   622.380005   625.219971   \n",
            "2021-06-30   679.770020   692.809998   678.140015   679.700012   \n",
            "2021-07-31   671.760010   697.530029   669.000000   687.200012   \n",
            "2021-08-31   733.000000   740.390015   726.440002   735.719971   \n",
            "2021-09-30   781.000000   789.130005   775.000000   775.479980   \n",
            "2021-10-31  1081.859985  1115.209961  1073.209961  1114.000000   \n",
            "2021-11-30  1144.369995  1168.000000  1118.000000  1144.760010   \n",
            "2021-12-31  1073.439941  1082.000000  1054.589966  1056.780029   \n",
            "2021-07-31   671.760010   697.530029   669.000000   687.200012   \n",
            "2021-08-31   733.000000   740.390015   726.440002   735.719971   \n",
            "2021-09-30   781.000000   789.130005   775.000000   775.479980   \n",
            "2021-10-31  1081.859985  1115.209961  1073.209961  1114.000000   \n",
            "\n",
            "            Tasa de retorno  \n",
            "Date                         \n",
            "2021-01-31              NaN  \n",
            "2021-02-28        -0.148740  \n",
            "2021-03-31        -0.011207  \n",
            "2021-04-30         0.062147  \n",
            "2021-05-31        -0.118713  \n",
            "2021-06-30         0.087137  \n",
            "2021-07-31         0.011034  \n",
            "2021-08-31         0.070605  \n",
            "2021-09-30         0.054042  \n",
            "2021-10-31         0.436530  \n",
            "2021-11-30         0.027612  \n",
            "2021-12-31        -0.076855  \n",
            "2021-07-31              NaN  \n",
            "2021-08-31              NaN  \n",
            "2021-09-30              NaN  \n",
            "2021-10-31              NaN  \n"
          ]
        }
      ]
    },
    {
      "cell_type": "code",
      "source": [
        "df_2021.columns = ['Change', 'High','Low','Close']\n",
        "# Con el método .columns declaramos el nombre de las variables que presentaremos\n",
        "ts_concat = pd.concat([tsla_bar, df_2021], axis = 0)\n",
        "# Concatenamos en la tabla los datos de tsla_bar y df_2021 de fecha mas reciente a la mas antigua \n",
        "print(ts_concat)"
      ],
      "metadata": {
        "colab": {
          "base_uri": "https://localhost:8080/"
        },
        "id": "F85Dv76ScXaT",
        "outputId": "10959dbd-cef0-4d94-8c56-71d7893cd4b0"
      },
      "execution_count": 36,
      "outputs": [
        {
          "output_type": "stream",
          "name": "stdout",
          "text": [
            "                   Open         High          Low        Close  \\\n",
            "Date                                                             \n",
            "2021-01-31   830.000000   842.409973   780.099976   793.530029   \n",
            "2021-02-28   700.000000   706.700012   659.510010   675.500000   \n",
            "2021-03-31   646.619995   672.000000   641.109985   667.929993   \n",
            "2021-04-30   667.590027   715.469971   666.140015   709.440002   \n",
            "2021-05-31   628.500000   635.590027   622.380005   625.219971   \n",
            "2021-06-30   679.770020   692.809998   678.140015   679.700012   \n",
            "2021-07-31   671.760010   697.530029   669.000000   687.200012   \n",
            "2021-08-31   733.000000   740.390015   726.440002   735.719971   \n",
            "2021-09-30   781.000000   789.130005   775.000000   775.479980   \n",
            "2021-10-31  1081.859985  1115.209961  1073.209961  1114.000000   \n",
            "2021-11-30  1144.369995  1168.000000  1118.000000  1144.760010   \n",
            "2021-12-31  1073.439941  1082.000000  1054.589966  1056.780029   \n",
            "2021-07-31          NaN   697.530029   669.000000   687.200012   \n",
            "2021-08-31          NaN   740.390015   726.440002   735.719971   \n",
            "2021-09-30          NaN   789.130005   775.000000   775.479980   \n",
            "2021-10-31          NaN  1115.209961  1073.209961  1114.000000   \n",
            "\n",
            "            Tasa de retorno       Change  \n",
            "Date                                      \n",
            "2021-01-31              NaN          NaN  \n",
            "2021-02-28        -0.148740          NaN  \n",
            "2021-03-31        -0.011207          NaN  \n",
            "2021-04-30         0.062147          NaN  \n",
            "2021-05-31        -0.118713          NaN  \n",
            "2021-06-30         0.087137          NaN  \n",
            "2021-07-31         0.011034          NaN  \n",
            "2021-08-31         0.070605          NaN  \n",
            "2021-09-30         0.054042          NaN  \n",
            "2021-10-31         0.436530          NaN  \n",
            "2021-11-30         0.027612          NaN  \n",
            "2021-12-31        -0.076855          NaN  \n",
            "2021-07-31              NaN   671.760010  \n",
            "2021-08-31              NaN   733.000000  \n",
            "2021-09-30              NaN   781.000000  \n",
            "2021-10-31              NaN  1081.859985  \n"
          ]
        }
      ]
    }
  ]
}